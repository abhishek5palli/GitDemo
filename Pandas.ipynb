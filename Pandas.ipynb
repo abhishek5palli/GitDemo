{
 "cells": [
  {
   "cell_type": "markdown",
   "id": "859c16b1-de72-47a2-b30d-3df47054c6ca",
   "metadata": {},
   "source": [
    "Pandas"
   ]
  },
  {
   "cell_type": "code",
   "execution_count": null,
   "id": "9fedc9b2-7c3c-4399-9658-055d907dac50",
   "metadata": {},
   "outputs": [],
   "source": [
    "1. What is Pandas?\n",
    "- Pandas is a Python Library used to working with datasets.\n",
    "- It has functions for analyzing, cleaning, exploring and manupulating data"
   ]
  },
  {
   "cell_type": "code",
   "execution_count": null,
   "id": "ce1f26e9-321d-4317-8028-f475b4171eef",
   "metadata": {},
   "outputs": [],
   "source": [
    "2. Why to use Pandas?\n",
    "- Pandas allows us to analyze big data and make conclusions based on statistical theories.\n",
    "- Pandas can clean messy datasets and make them readable & relevant"
   ]
  },
  {
   "cell_type": "code",
   "execution_count": null,
   "id": "9f1488d2-850b-4723-b0bd-6768b8371f96",
   "metadata": {},
   "outputs": [],
   "source": [
    "3. What can Pandas do?\n",
    "- Pandas gives you answers about the data like:\n",
    "    a. Is there a correlation between two or more columns?\n",
    "    b. What is average value?\n",
    "    c. Max value?\n",
    "    d. Min value?\n",
    "- Pandas is also able to delete rows that are not relevant OR contains wrong values like empty or \n",
    "  NULL values. This is called cleaning the data."
   ]
  },
  {
   "cell_type": "code",
   "execution_count": null,
   "id": "51658dc5-18f4-4dfc-be60-3a7fe2103801",
   "metadata": {},
   "outputs": [],
   "source": []
  },
  {
   "cell_type": "markdown",
   "id": "a572ac91-e8a9-480b-b63f-d14e08c7258d",
   "metadata": {},
   "source": [
    "# Data Structures in Pandas"
   ]
  },
  {
   "cell_type": "code",
   "execution_count": null,
   "id": "27023762-202b-470e-9c5a-ed09d87b647a",
   "metadata": {},
   "outputs": [],
   "source": [
    "1. Series                    1-Dimentional\n",
    "2. DataFrame                 2-Dimentional\n",
    "3. Panel                     Multi-Dimetional"
   ]
  },
  {
   "cell_type": "code",
   "execution_count": null,
   "id": "c3b80cca-cfc8-44e0-85cf-9571a0ea8576",
   "metadata": {},
   "outputs": [],
   "source": []
  },
  {
   "cell_type": "code",
   "execution_count": 4,
   "id": "3b5209d2-07bd-48ca-b930-d55995157648",
   "metadata": {},
   "outputs": [],
   "source": [
    "import pandas as pd"
   ]
  },
  {
   "cell_type": "markdown",
   "id": "980c53da-d2bf-4a9f-bc9d-cff7bcbc8aa9",
   "metadata": {},
   "source": [
    "# 1. Series"
   ]
  },
  {
   "cell_type": "code",
   "execution_count": 6,
   "id": "572676f1-1451-4032-bf5f-e3b99c5f820b",
   "metadata": {},
   "outputs": [],
   "source": [
    "s1 = pd.Series([10,20,30,40,50])"
   ]
  },
  {
   "cell_type": "code",
   "execution_count": 8,
   "id": "4d11df00-d71e-4478-b382-5b8c7ed5a12c",
   "metadata": {},
   "outputs": [
    {
     "data": {
      "text/plain": [
       "0    10\n",
       "1    20\n",
       "2    30\n",
       "3    40\n",
       "4    50\n",
       "dtype: int64"
      ]
     },
     "execution_count": 8,
     "metadata": {},
     "output_type": "execute_result"
    }
   ],
   "source": [
    "s1"
   ]
  },
  {
   "cell_type": "code",
   "execution_count": null,
   "id": "9fa60204-7206-426c-bd1f-e880349b028f",
   "metadata": {},
   "outputs": [],
   "source": []
  },
  {
   "cell_type": "code",
   "execution_count": 10,
   "id": "8039f0dc-1f6a-492e-afa7-ac747a8c5116",
   "metadata": {},
   "outputs": [],
   "source": [
    "s2 = pd.Series([10,20,30,40,50], index=['a','b','c','d','e'])"
   ]
  },
  {
   "cell_type": "code",
   "execution_count": 12,
   "id": "07bca47f-3922-4e26-aef4-72c495aea5d1",
   "metadata": {},
   "outputs": [
    {
     "data": {
      "text/plain": [
       "a    10\n",
       "b    20\n",
       "c    30\n",
       "d    40\n",
       "e    50\n",
       "dtype: int64"
      ]
     },
     "execution_count": 12,
     "metadata": {},
     "output_type": "execute_result"
    }
   ],
   "source": [
    "s2"
   ]
  },
  {
   "cell_type": "code",
   "execution_count": null,
   "id": "1e7865c6-903a-4793-8cae-8f2d31d961ea",
   "metadata": {},
   "outputs": [],
   "source": []
  },
  {
   "cell_type": "code",
   "execution_count": 14,
   "id": "5557ea28-139a-4673-9016-2fba84df40b3",
   "metadata": {},
   "outputs": [],
   "source": [
    "d1 = pd.Series({'a':101, 'b':202, 'c':303})"
   ]
  },
  {
   "cell_type": "code",
   "execution_count": 16,
   "id": "59317736-0ac7-479f-84e3-b0eda9626c1f",
   "metadata": {},
   "outputs": [
    {
     "data": {
      "text/plain": [
       "a    101\n",
       "b    202\n",
       "c    303\n",
       "dtype: int64"
      ]
     },
     "execution_count": 16,
     "metadata": {},
     "output_type": "execute_result"
    }
   ],
   "source": [
    "d1"
   ]
  },
  {
   "cell_type": "code",
   "execution_count": 18,
   "id": "6c08dac3-d198-4d5f-90de-a0d924a4c8a8",
   "metadata": {},
   "outputs": [
    {
     "data": {
      "text/plain": [
       "pandas.core.series.Series"
      ]
     },
     "execution_count": 18,
     "metadata": {},
     "output_type": "execute_result"
    }
   ],
   "source": [
    "type(d1)"
   ]
  },
  {
   "cell_type": "code",
   "execution_count": null,
   "id": "fc9f40da-df57-4eca-9373-215aac33b4f6",
   "metadata": {},
   "outputs": [],
   "source": []
  },
  {
   "cell_type": "code",
   "execution_count": 20,
   "id": "6e4262ed-f208-401c-ab65-f736c8ac0201",
   "metadata": {},
   "outputs": [],
   "source": [
    "t1 = pd.Series([100,200,300,400,500], index=[1,2,3,4,5])"
   ]
  },
  {
   "cell_type": "code",
   "execution_count": 22,
   "id": "32f3e5fb-1c78-4208-b82b-bf2098849c02",
   "metadata": {},
   "outputs": [
    {
     "data": {
      "text/plain": [
       "1    100\n",
       "2    200\n",
       "3    300\n",
       "4    400\n",
       "5    500\n",
       "dtype: int64"
      ]
     },
     "execution_count": 22,
     "metadata": {},
     "output_type": "execute_result"
    }
   ],
   "source": [
    "t1"
   ]
  },
  {
   "cell_type": "code",
   "execution_count": 26,
   "id": "52ea3369-45e0-4a00-a235-f3f913d8344d",
   "metadata": {},
   "outputs": [
    {
     "name": "stdout",
     "output_type": "stream",
     "text": [
      "Data Type: int64\n",
      "Index: Index([1, 2, 3, 4, 5], dtype='int64')\n",
      "Values [100 200 300 400 500]\n",
      "Get Single Value: 400\n"
     ]
    }
   ],
   "source": [
    "print(\"Data Type:\", t1.dtype)\n",
    "print(\"Index:\", t1.index)\n",
    "print(\"Values\",t1.values)\n",
    "print(\"Get Single Value:\", t1.get(4))"
   ]
  },
  {
   "cell_type": "code",
   "execution_count": null,
   "id": "c4ad96fe-a2d0-4da7-9461-d2b1e41257f2",
   "metadata": {},
   "outputs": [],
   "source": []
  },
  {
   "cell_type": "markdown",
   "id": "db6fb22e-729a-4497-a23b-65c1355457ac",
   "metadata": {},
   "source": [
    "# 2.DataFrame"
   ]
  },
  {
   "cell_type": "code",
   "execution_count": 32,
   "id": "3b552dba-0042-4fe6-ad67-627417630419",
   "metadata": {},
   "outputs": [],
   "source": [
    "# Create DataFrame using Dictionary\n",
    "emp_details = {\n",
    "    'Id': [101,102,103,104],\n",
    "    'Name': ['Raghav','Darshan','Ammy','John'],\n",
    "    'City':['Mumbai','Hyderabad','Chennai','Noida'],\n",
    "    'Salary':[51000,54200,65470,30000]\n",
    "}"
   ]
  },
  {
   "cell_type": "code",
   "execution_count": 34,
   "id": "86fe46d6-8b53-4be7-a421-b81e4edcaa9e",
   "metadata": {},
   "outputs": [],
   "source": [
    "emp = pd.DataFrame(emp_details)"
   ]
  },
  {
   "cell_type": "code",
   "execution_count": 36,
   "id": "fec71562-b957-41a4-afe3-aebf8d3b3602",
   "metadata": {},
   "outputs": [
    {
     "data": {
      "text/html": [
       "<div>\n",
       "<style scoped>\n",
       "    .dataframe tbody tr th:only-of-type {\n",
       "        vertical-align: middle;\n",
       "    }\n",
       "\n",
       "    .dataframe tbody tr th {\n",
       "        vertical-align: top;\n",
       "    }\n",
       "\n",
       "    .dataframe thead th {\n",
       "        text-align: right;\n",
       "    }\n",
       "</style>\n",
       "<table border=\"1\" class=\"dataframe\">\n",
       "  <thead>\n",
       "    <tr style=\"text-align: right;\">\n",
       "      <th></th>\n",
       "      <th>Id</th>\n",
       "      <th>Name</th>\n",
       "      <th>City</th>\n",
       "      <th>Salary</th>\n",
       "    </tr>\n",
       "  </thead>\n",
       "  <tbody>\n",
       "    <tr>\n",
       "      <th>0</th>\n",
       "      <td>101</td>\n",
       "      <td>Raghav</td>\n",
       "      <td>Mumbai</td>\n",
       "      <td>51000</td>\n",
       "    </tr>\n",
       "    <tr>\n",
       "      <th>1</th>\n",
       "      <td>102</td>\n",
       "      <td>Darshan</td>\n",
       "      <td>Hyderabad</td>\n",
       "      <td>54200</td>\n",
       "    </tr>\n",
       "    <tr>\n",
       "      <th>2</th>\n",
       "      <td>103</td>\n",
       "      <td>Ammy</td>\n",
       "      <td>Chennai</td>\n",
       "      <td>65470</td>\n",
       "    </tr>\n",
       "    <tr>\n",
       "      <th>3</th>\n",
       "      <td>104</td>\n",
       "      <td>John</td>\n",
       "      <td>Noida</td>\n",
       "      <td>30000</td>\n",
       "    </tr>\n",
       "  </tbody>\n",
       "</table>\n",
       "</div>"
      ],
      "text/plain": [
       "    Id     Name       City  Salary\n",
       "0  101   Raghav     Mumbai   51000\n",
       "1  102  Darshan  Hyderabad   54200\n",
       "2  103     Ammy    Chennai   65470\n",
       "3  104     John      Noida   30000"
      ]
     },
     "execution_count": 36,
     "metadata": {},
     "output_type": "execute_result"
    }
   ],
   "source": [
    "emp"
   ]
  },
  {
   "cell_type": "code",
   "execution_count": null,
   "id": "df89271f-a71a-4e27-b820-028e0eb5746e",
   "metadata": {},
   "outputs": [],
   "source": []
  },
  {
   "cell_type": "code",
   "execution_count": 44,
   "id": "0d578e35-56b0-4c96-861a-dc49a8b390ee",
   "metadata": {},
   "outputs": [],
   "source": [
    "# index\n",
    "emp_index = pd.DataFrame(emp_details, index=[1,2,3,4])"
   ]
  },
  {
   "cell_type": "code",
   "execution_count": 46,
   "id": "06316ae9-7576-443b-bf33-f2ba12860553",
   "metadata": {},
   "outputs": [
    {
     "data": {
      "text/html": [
       "<div>\n",
       "<style scoped>\n",
       "    .dataframe tbody tr th:only-of-type {\n",
       "        vertical-align: middle;\n",
       "    }\n",
       "\n",
       "    .dataframe tbody tr th {\n",
       "        vertical-align: top;\n",
       "    }\n",
       "\n",
       "    .dataframe thead th {\n",
       "        text-align: right;\n",
       "    }\n",
       "</style>\n",
       "<table border=\"1\" class=\"dataframe\">\n",
       "  <thead>\n",
       "    <tr style=\"text-align: right;\">\n",
       "      <th></th>\n",
       "      <th>Id</th>\n",
       "      <th>Name</th>\n",
       "      <th>City</th>\n",
       "      <th>Salary</th>\n",
       "    </tr>\n",
       "  </thead>\n",
       "  <tbody>\n",
       "    <tr>\n",
       "      <th>1</th>\n",
       "      <td>101</td>\n",
       "      <td>Raghav</td>\n",
       "      <td>Mumbai</td>\n",
       "      <td>51000</td>\n",
       "    </tr>\n",
       "    <tr>\n",
       "      <th>2</th>\n",
       "      <td>102</td>\n",
       "      <td>Darshan</td>\n",
       "      <td>Hyderabad</td>\n",
       "      <td>54200</td>\n",
       "    </tr>\n",
       "    <tr>\n",
       "      <th>3</th>\n",
       "      <td>103</td>\n",
       "      <td>Ammy</td>\n",
       "      <td>Chennai</td>\n",
       "      <td>65470</td>\n",
       "    </tr>\n",
       "    <tr>\n",
       "      <th>4</th>\n",
       "      <td>104</td>\n",
       "      <td>John</td>\n",
       "      <td>Noida</td>\n",
       "      <td>30000</td>\n",
       "    </tr>\n",
       "  </tbody>\n",
       "</table>\n",
       "</div>"
      ],
      "text/plain": [
       "    Id     Name       City  Salary\n",
       "1  101   Raghav     Mumbai   51000\n",
       "2  102  Darshan  Hyderabad   54200\n",
       "3  103     Ammy    Chennai   65470\n",
       "4  104     John      Noida   30000"
      ]
     },
     "execution_count": 46,
     "metadata": {},
     "output_type": "execute_result"
    }
   ],
   "source": [
    "emp_index"
   ]
  },
  {
   "cell_type": "code",
   "execution_count": null,
   "id": "c58da873-3d41-4910-aee8-e7f5b65ea7c6",
   "metadata": {},
   "outputs": [],
   "source": []
  },
  {
   "cell_type": "code",
   "execution_count": 48,
   "id": "594a06e6-60c7-4b86-8edb-9bb32acefc0c",
   "metadata": {},
   "outputs": [
    {
     "name": "stdout",
     "output_type": "stream",
     "text": [
      "Index([1, 2, 3, 4], dtype='int64')\n"
     ]
    }
   ],
   "source": [
    "print(emp_index.index)"
   ]
  },
  {
   "cell_type": "code",
   "execution_count": 50,
   "id": "480b7c09-083a-4614-8f35-030c1d1abea9",
   "metadata": {},
   "outputs": [
    {
     "name": "stdout",
     "output_type": "stream",
     "text": [
      "1     Raghav\n",
      "2    Darshan\n",
      "3       Ammy\n",
      "4       John\n",
      "Name: Name, dtype: object\n"
     ]
    }
   ],
   "source": [
    "print(emp_index.Name)"
   ]
  },
  {
   "cell_type": "code",
   "execution_count": 52,
   "id": "5977a79f-73d9-4dd9-b62e-ee094d41e002",
   "metadata": {},
   "outputs": [
    {
     "name": "stdout",
     "output_type": "stream",
     "text": [
      "Darshan\n"
     ]
    }
   ],
   "source": [
    "print(emp_index.Name.get(2))"
   ]
  },
  {
   "cell_type": "code",
   "execution_count": null,
   "id": "a6f48109-c3c2-43ea-ac7a-758f0d8d4bc1",
   "metadata": {},
   "outputs": [],
   "source": []
  },
  {
   "cell_type": "code",
   "execution_count": 56,
   "id": "b38668d8-9409-4151-b8fe-b9d81bbee1a7",
   "metadata": {},
   "outputs": [],
   "source": [
    "# Create DataFrame by using Series\n",
    "\n",
    "data = {\n",
    "    'Name': pd.Series(['abc','def','ghi']),\n",
    "    'Sal': pd.Series([15000,52000,30000])\n",
    "}"
   ]
  },
  {
   "cell_type": "code",
   "execution_count": 58,
   "id": "e155b607-080d-4663-975f-05716e9e34ab",
   "metadata": {},
   "outputs": [],
   "source": [
    "series_df = pd.DataFrame(data)"
   ]
  },
  {
   "cell_type": "code",
   "execution_count": 60,
   "id": "e519647a-c741-439a-a2f0-7f8bdf75c0ac",
   "metadata": {},
   "outputs": [
    {
     "data": {
      "text/html": [
       "<div>\n",
       "<style scoped>\n",
       "    .dataframe tbody tr th:only-of-type {\n",
       "        vertical-align: middle;\n",
       "    }\n",
       "\n",
       "    .dataframe tbody tr th {\n",
       "        vertical-align: top;\n",
       "    }\n",
       "\n",
       "    .dataframe thead th {\n",
       "        text-align: right;\n",
       "    }\n",
       "</style>\n",
       "<table border=\"1\" class=\"dataframe\">\n",
       "  <thead>\n",
       "    <tr style=\"text-align: right;\">\n",
       "      <th></th>\n",
       "      <th>Name</th>\n",
       "      <th>Sal</th>\n",
       "    </tr>\n",
       "  </thead>\n",
       "  <tbody>\n",
       "    <tr>\n",
       "      <th>0</th>\n",
       "      <td>abc</td>\n",
       "      <td>15000</td>\n",
       "    </tr>\n",
       "    <tr>\n",
       "      <th>1</th>\n",
       "      <td>def</td>\n",
       "      <td>52000</td>\n",
       "    </tr>\n",
       "    <tr>\n",
       "      <th>2</th>\n",
       "      <td>ghi</td>\n",
       "      <td>30000</td>\n",
       "    </tr>\n",
       "  </tbody>\n",
       "</table>\n",
       "</div>"
      ],
      "text/plain": [
       "  Name    Sal\n",
       "0  abc  15000\n",
       "1  def  52000\n",
       "2  ghi  30000"
      ]
     },
     "execution_count": 60,
     "metadata": {},
     "output_type": "execute_result"
    }
   ],
   "source": [
    "series_df"
   ]
  },
  {
   "cell_type": "code",
   "execution_count": null,
   "id": "1cdd66aa-b7ee-4758-80f3-c4e21d321f4a",
   "metadata": {},
   "outputs": [],
   "source": []
  },
  {
   "cell_type": "code",
   "execution_count": null,
   "id": "af091525-2096-4b1b-bba8-a864e67ef4b8",
   "metadata": {},
   "outputs": [],
   "source": []
  },
  {
   "cell_type": "code",
   "execution_count": null,
   "id": "6b2797dd-7690-4d32-9090-efa38e4c3da5",
   "metadata": {},
   "outputs": [],
   "source": []
  },
  {
   "cell_type": "code",
   "execution_count": null,
   "id": "bbfb889e-a02f-4abf-8db6-ba52af1fb012",
   "metadata": {},
   "outputs": [],
   "source": []
  },
  {
   "cell_type": "code",
   "execution_count": null,
   "id": "db108caf-f7c4-4c85-ab0e-2a3838cd6dd9",
   "metadata": {},
   "outputs": [],
   "source": []
  },
  {
   "cell_type": "code",
   "execution_count": null,
   "id": "8b0551aa-c9d6-4452-bfa9-441e14c5a499",
   "metadata": {},
   "outputs": [],
   "source": []
  },
  {
   "cell_type": "code",
   "execution_count": null,
   "id": "a3686360-be23-46ef-8ca2-4f9baa6e6810",
   "metadata": {},
   "outputs": [],
   "source": []
  },
  {
   "cell_type": "code",
   "execution_count": null,
   "id": "5e163b40-b08d-4567-8b10-8d65ec4a887e",
   "metadata": {},
   "outputs": [],
   "source": []
  },
  {
   "cell_type": "code",
   "execution_count": null,
   "id": "00998718-807e-412a-b90b-6f840bf0ebad",
   "metadata": {},
   "outputs": [],
   "source": []
  },
  {
   "cell_type": "code",
   "execution_count": null,
   "id": "dbe19d93-2ba3-4e5d-99eb-e949593a55ea",
   "metadata": {},
   "outputs": [],
   "source": []
  },
  {
   "cell_type": "code",
   "execution_count": null,
   "id": "ea563338-58b0-4ded-8912-9df47352b87d",
   "metadata": {},
   "outputs": [],
   "source": []
  },
  {
   "cell_type": "code",
   "execution_count": null,
   "id": "793d9c9c-9717-4ef2-ac9a-a308280e6f05",
   "metadata": {},
   "outputs": [],
   "source": []
  },
  {
   "cell_type": "code",
   "execution_count": null,
   "id": "0c421f6f-6081-47a6-88c9-c58262e2ae4c",
   "metadata": {},
   "outputs": [],
   "source": []
  },
  {
   "cell_type": "code",
   "execution_count": null,
   "id": "62434242-3abf-4070-8116-66a6a889be65",
   "metadata": {},
   "outputs": [],
   "source": []
  },
  {
   "cell_type": "code",
   "execution_count": null,
   "id": "cbd33a75-aff1-4232-a22d-0c5ddb7ce26b",
   "metadata": {},
   "outputs": [],
   "source": []
  },
  {
   "cell_type": "code",
   "execution_count": null,
   "id": "0e259d94-b5e8-4e60-8f21-507ffc930407",
   "metadata": {},
   "outputs": [],
   "source": []
  },
  {
   "cell_type": "code",
   "execution_count": null,
   "id": "2421c18e-e638-4479-be7f-e795bc4f21ce",
   "metadata": {},
   "outputs": [],
   "source": []
  },
  {
   "cell_type": "code",
   "execution_count": null,
   "id": "c77aa604-bade-4ccc-ae4c-b7594d6119e0",
   "metadata": {},
   "outputs": [],
   "source": []
  },
  {
   "cell_type": "code",
   "execution_count": null,
   "id": "a2925a3e-52e2-4b72-839f-72d3de71ee8e",
   "metadata": {},
   "outputs": [],
   "source": []
  },
  {
   "cell_type": "code",
   "execution_count": null,
   "id": "dfce4b48-07de-4e8d-a148-65dc7305308c",
   "metadata": {},
   "outputs": [],
   "source": []
  },
  {
   "cell_type": "code",
   "execution_count": null,
   "id": "16507e28-ea99-481e-9182-67774d6ad9eb",
   "metadata": {},
   "outputs": [],
   "source": []
  },
  {
   "cell_type": "code",
   "execution_count": null,
   "id": "0a69d8c5-1da3-467d-8800-ddf92ef39c11",
   "metadata": {},
   "outputs": [],
   "source": []
  },
  {
   "cell_type": "code",
   "execution_count": null,
   "id": "dc492d39-8354-4e67-8653-d639cb9cbd3c",
   "metadata": {},
   "outputs": [],
   "source": []
  },
  {
   "cell_type": "code",
   "execution_count": null,
   "id": "85476452-bf77-4f8f-9073-f73cacd35b59",
   "metadata": {},
   "outputs": [],
   "source": []
  },
  {
   "cell_type": "code",
   "execution_count": null,
   "id": "ca992feb-b956-4c3c-8ae0-f4e47dfd69e7",
   "metadata": {},
   "outputs": [],
   "source": []
  },
  {
   "cell_type": "code",
   "execution_count": null,
   "id": "00d93a34-6f53-40cf-9413-9aa4051999f3",
   "metadata": {},
   "outputs": [],
   "source": []
  },
  {
   "cell_type": "code",
   "execution_count": null,
   "id": "1185106a-eed4-4aff-aacd-0de89ebf83d9",
   "metadata": {},
   "outputs": [],
   "source": []
  },
  {
   "cell_type": "code",
   "execution_count": null,
   "id": "957c1556-9863-4db8-a4ed-332d31ac9c3b",
   "metadata": {},
   "outputs": [],
   "source": []
  },
  {
   "cell_type": "code",
   "execution_count": null,
   "id": "fd41687b-939b-49dd-b814-e300a5cbc2bf",
   "metadata": {},
   "outputs": [],
   "source": []
  },
  {
   "cell_type": "code",
   "execution_count": null,
   "id": "63fcd9e2-cebd-4d87-82c5-974c5426b639",
   "metadata": {},
   "outputs": [],
   "source": []
  },
  {
   "cell_type": "code",
   "execution_count": null,
   "id": "a4c277f1-9946-458e-9b90-70d038bf5b6e",
   "metadata": {},
   "outputs": [],
   "source": []
  },
  {
   "cell_type": "code",
   "execution_count": null,
   "id": "d5f84f7e-0093-4149-be06-0393ebc774c9",
   "metadata": {},
   "outputs": [],
   "source": []
  },
  {
   "cell_type": "code",
   "execution_count": null,
   "id": "cb8e64c8-cba6-4ae2-bfe1-5e7b31b7dd55",
   "metadata": {},
   "outputs": [],
   "source": []
  },
  {
   "cell_type": "code",
   "execution_count": null,
   "id": "5ebe1edd-2808-4def-bc0e-7bcde694727f",
   "metadata": {},
   "outputs": [],
   "source": []
  },
  {
   "cell_type": "code",
   "execution_count": null,
   "id": "9bcf71ce-0968-493a-99ed-3cd1d25c6343",
   "metadata": {},
   "outputs": [],
   "source": []
  },
  {
   "cell_type": "code",
   "execution_count": null,
   "id": "4f43ea8c-a379-48d6-91fe-5e43ca8c6fc0",
   "metadata": {},
   "outputs": [],
   "source": []
  },
  {
   "cell_type": "code",
   "execution_count": null,
   "id": "d351084e-767c-4de2-b5c9-f998eb0db8ca",
   "metadata": {},
   "outputs": [],
   "source": []
  },
  {
   "cell_type": "code",
   "execution_count": null,
   "id": "606814fb-a3c6-4495-8f90-df778b3b098d",
   "metadata": {},
   "outputs": [],
   "source": []
  },
  {
   "cell_type": "code",
   "execution_count": null,
   "id": "3b0a08a2-4d26-4c9e-ad73-c4c9b203a714",
   "metadata": {},
   "outputs": [],
   "source": []
  },
  {
   "cell_type": "code",
   "execution_count": null,
   "id": "ec40d720-07d7-4448-923d-ca34fa084d98",
   "metadata": {},
   "outputs": [],
   "source": []
  },
  {
   "cell_type": "code",
   "execution_count": null,
   "id": "9403bf95-8df1-4993-8546-c9f21a0b0a81",
   "metadata": {},
   "outputs": [],
   "source": []
  },
  {
   "cell_type": "code",
   "execution_count": null,
   "id": "74816add-1434-40da-8079-d89452988c23",
   "metadata": {},
   "outputs": [],
   "source": [
    "\n",
    "\n",
    "\n"
   ]
  }
 ],
 "metadata": {
  "kernelspec": {
   "display_name": "Python 3 (ipykernel)",
   "language": "python",
   "name": "python3"
  },
  "language_info": {
   "codemirror_mode": {
    "name": "ipython",
    "version": 3
   },
   "file_extension": ".py",
   "mimetype": "text/x-python",
   "name": "python",
   "nbconvert_exporter": "python",
   "pygments_lexer": "ipython3",
   "version": "3.12.7"
  }
 },
 "nbformat": 4,
 "nbformat_minor": 5
}
