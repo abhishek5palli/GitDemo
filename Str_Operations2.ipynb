{
 "cells": [
  {
   "cell_type": "code",
   "execution_count": 1,
   "id": "a0d49a60-0d1d-482f-ab41-9d5711368b3a",
   "metadata": {},
   "outputs": [],
   "source": [
    "data = \"\"\"cPython is the reference implementation of Python. It is written in C, meeting the C89 standard (Python 3.11 uses C11[134]) \n",
    "with several select C99 features. CPython includes its own C extensions, but third-party extensions are not limited to older\n",
    "C versions—e.g. they can be implemented with C11 or C++.[135][136] CPython compiles Python programs into an intermediate bytecode[137] \n",
    "which is then executed by its virtual machine.[138] CPython is distributed with a large standard library written in a mixture of C \n",
    "and native Python, and is available for many platforms, including Windows (starting with Python 3.9, the Python\n",
    "installer deliberately fails to install on Windows 7 and 8;[139][140] Windows XP was supported until Python 3.5) and \n",
    "most modern Unix-like systems, including macOS (and Apple M1 Macs, since Python 3.9.1, with experimental installer), with \n",
    "unofficial support for VMS.[141] Platform portability was one of its earliest priorities.[142] (During Python 1 and 2 development, \n",
    "even OS/2 and Solaris were supported,[143] but support has since been dropped for many platforms.)\"\"\""
   ]
  },
  {
   "cell_type": "code",
   "execution_count": null,
   "id": "5e751673-b38d-49a7-837f-009387b45b0d",
   "metadata": {},
   "outputs": [],
   "source": []
  },
  {
   "cell_type": "code",
   "execution_count": null,
   "id": "a01022a4-b433-4c8a-ae2a-cfb72a1ca7f9",
   "metadata": {},
   "outputs": [],
   "source": []
  },
  {
   "cell_type": "code",
   "execution_count": null,
   "id": "830d9e4b-6bd5-4388-a51c-084f50b2f860",
   "metadata": {},
   "outputs": [],
   "source": [
    "1.split()  : It is used to split your string\n",
    "             Bydefault it will return result in List\n",
    "             #You can specify the separator, default separator is whitespace\n",
    "# SYNTAX : variable_name.split(separator,maxsplit)\n",
    "# maxsplit : Maximum number of splits. -1 (the default value) means no limit."
   ]
  },
  {
   "cell_type": "code",
   "execution_count": 3,
   "id": "62d48912-1cd2-48c6-be6b-a14e9bdf4a3e",
   "metadata": {},
   "outputs": [],
   "source": [
    "data = \"The sky is blue\""
   ]
  },
  {
   "cell_type": "code",
   "execution_count": 5,
   "id": "ade2e334-ce18-4eb2-b5c2-e514aec64565",
   "metadata": {},
   "outputs": [
    {
     "data": {
      "text/plain": [
       "['The', 'sky', 'is', 'blue']"
      ]
     },
     "execution_count": 5,
     "metadata": {},
     "output_type": "execute_result"
    }
   ],
   "source": [
    "data.split(\" \")"
   ]
  },
  {
   "cell_type": "code",
   "execution_count": null,
   "id": "78bd8f72-f59e-4225-b0c1-7658764d1576",
   "metadata": {},
   "outputs": [],
   "source": []
  },
  {
   "cell_type": "code",
   "execution_count": null,
   "id": "b0aaa67b-fd3b-4a6f-bddb-7d5f1f3ef7ab",
   "metadata": {},
   "outputs": [],
   "source": [
    "# Questions\n",
    "1. How do you split a string by spaces using the split() method?\n",
    "2. How can you convert the sentence \"Hello world, this is Python.\"' into a list of words?\n",
    "3. Given a string representing CSV data, split it by commas.\n",
    "   Input: \"apple,banana,orange\"\n",
    "   Output: ['apple', 'banana', 'orange']\n",
    "4. Input: \"apple,,banana,,orange\"\n",
    "   Output: ['apple', '', 'banana', '', 'orange']\n",
    "5. Input: \"v1.2.3.4\"\n",
    "   Output: ['v1', '2', '3', '4']\n",
    "6. Input: \"2024-12-11\"\n",
    "   Output: ['2024', '12', '11']\n",
    "7. Split the string \"apple,banana,orange,grapes\" at the first two commas only.\n",
    "   Input: \"apple,banana,orange,grapes\"\n",
    "   Output: ['apple', 'banana', 'orange,grapes']"
   ]
  },
  {
   "cell_type": "code",
   "execution_count": null,
   "id": "b662f6ac-267b-4187-bb55-706ef97b9663",
   "metadata": {},
   "outputs": [],
   "source": []
  },
  {
   "cell_type": "code",
   "execution_count": null,
   "id": "d3583d8b-8092-4e53-9c01-da1c2374b5d8",
   "metadata": {},
   "outputs": [],
   "source": []
  },
  {
   "cell_type": "code",
   "execution_count": null,
   "id": "39d37431-c107-47d7-b0c6-603eb461ef86",
   "metadata": {},
   "outputs": [],
   "source": [
    "2.splitlines() : It is used to split a string into a list of string based on line breaks.\n",
    "                 It looks for new line breaks, such as newline character \"\\n\""
   ]
  },
  {
   "cell_type": "code",
   "execution_count": 123,
   "id": "4ee32f34-a1fb-45f4-80af-eafa8bb361d0",
   "metadata": {},
   "outputs": [],
   "source": [
    "txt = \"Thank you for the music\\nWelcome to the jungle\""
   ]
  },
  {
   "cell_type": "code",
   "execution_count": 125,
   "id": "8786601f-cf90-459b-b75e-6cbf26808087",
   "metadata": {},
   "outputs": [
    {
     "data": {
      "text/plain": [
       "['Thank you for the music', 'Welcome to the jungle']"
      ]
     },
     "execution_count": 125,
     "metadata": {},
     "output_type": "execute_result"
    }
   ],
   "source": [
    "txt.splitlines()"
   ]
  },
  {
   "cell_type": "code",
   "execution_count": null,
   "id": "e8ea903d-23be-42ad-9927-a934b8abf549",
   "metadata": {},
   "outputs": [],
   "source": []
  },
  {
   "cell_type": "code",
   "execution_count": null,
   "id": "b8ecde38-5807-420f-8232-8233caf8adc3",
   "metadata": {},
   "outputs": [],
   "source": [
    "# Questions\n",
    "1. Count the Number of Lines in a Text (using splitlines())\n",
    "   text = \"\"\"Line 1\n",
    "Line 2\n",
    "Line 3\"\"\"\n",
    "\n",
    "2. Remove Empty Lines from a Multi-Line String (using splitlines())\n",
    "  text = \"\"\"Line 1\n",
    "\n",
    "Line 2\n",
    "\n",
    "Line 3\"\"\"\n",
    "\n",
    "3. Extract All Lines Starting with a Specific Prefix (using splitline())\n",
    "text = \"\"\"error: File not found\n",
    "warning: Low disk space\n",
    "error: Connection lost\"\"\"\n",
    "# Extract lines that start with 'error'\n",
    "\n",
    "4. Check if any line in a multi-line string contains a specific keyword (e.g., \"error\").\n",
    "text = \"\"\"Line 1\n",
    "There is an error in the code.\n",
    "Line 3\"\"\"\n",
    "\n",
    "5. Use splitlines() to find and print the max length or longest line in a multi-line string.\n",
    "text = \"\"\"Short line\n",
    "This is a much longer line\n",
    "Short again\"\"\"\n",
    "\n",
    "6. Use splitlines() to extract lines that contain at least one digit.\n",
    "python\n",
    "text = \"\"\"Line one\n",
    "Price: 10 dollars\n",
    "Line three\"\"\"\n",
    "\n",
    "7. Convert a multi-line string to uppercase and split it into lines.\n",
    "text = \"\"\"Hello World\n",
    "Python is great\"\"\"\n",
    "\n",
    "8. Reverse the order of lines in a multi-line string.\n",
    "text = \"\"\"Line 1\n",
    "Line 2\n",
    "Line 3\"\"\"\n",
    "\n",
    "9. Count how many times a specific character (e.g., a) occurs in each line of text.\n",
    "text = \"\"\"apple\n",
    "banana\n",
    "orange\"\"\"\n",
    "\n",
    "10. Extract all unique words across lines of text and print them.\n",
    "text = \"\"\"Hello world\n",
    "Python world\n",
    "Good morning\"\"\""
   ]
  },
  {
   "cell_type": "code",
   "execution_count": null,
   "id": "c10cf339-d57e-43f8-95c5-861a46905391",
   "metadata": {},
   "outputs": [],
   "source": []
  },
  {
   "cell_type": "code",
   "execution_count": null,
   "id": "35c23d6f-f6d2-48a4-bc59-738965f37c73",
   "metadata": {},
   "outputs": [],
   "source": []
  },
  {
   "cell_type": "code",
   "execution_count": null,
   "id": "bdeeb0af-52c4-43ca-971e-8e91d92ec93f",
   "metadata": {},
   "outputs": [],
   "source": [
    "3. join(): It takes all items and joins them into one string \n",
    "#SYNTAX : string.join(iterable)\n",
    "iterable --> Required. Any iterable object where all the returned values are strings"
   ]
  },
  {
   "cell_type": "code",
   "execution_count": 113,
   "id": "4165b161-6b19-4c7b-91c8-68b2aae27831",
   "metadata": {},
   "outputs": [],
   "source": [
    "cities = ['Pune','Mumbai','Nagpur']"
   ]
  },
  {
   "cell_type": "code",
   "execution_count": 115,
   "id": "dc636b31-5fec-49a6-ad73-d75ff0bdbc97",
   "metadata": {},
   "outputs": [
    {
     "data": {
      "text/plain": [
       "'Pune#Mumbai#Nagpur'"
      ]
     },
     "execution_count": 115,
     "metadata": {},
     "output_type": "execute_result"
    }
   ],
   "source": [
    "\"#\".join(cities)"
   ]
  },
  {
   "cell_type": "code",
   "execution_count": 125,
   "id": "59aedac0-1b0e-4fee-a0b5-ff0bbdc034e5",
   "metadata": {},
   "outputs": [
    {
     "data": {
      "text/plain": [
       "'Pune*Mumbai*Nagpur'"
      ]
     },
     "execution_count": 125,
     "metadata": {},
     "output_type": "execute_result"
    }
   ],
   "source": [
    "\"*\".join(cities)  #Pune*MumbaiNagpur"
   ]
  },
  {
   "cell_type": "code",
   "execution_count": 141,
   "id": "52f8de0a-4435-4aad-8d33-a3fbb1f83d39",
   "metadata": {},
   "outputs": [
    {
     "data": {
      "text/plain": [
       "'Pune*Mumbai,Nagpur'"
      ]
     },
     "execution_count": 141,
     "metadata": {},
     "output_type": "execute_result"
    }
   ],
   "source": [
    "\"*\".join(cities[0:2])+\",\"+\",\".join(cities[2:])"
   ]
  },
  {
   "cell_type": "code",
   "execution_count": 148,
   "id": "ab1d4fe9-2501-4e3c-b152-aa3b1fdcc0f0",
   "metadata": {},
   "outputs": [
    {
     "data": {
      "text/plain": [
       "'Pune*Mumbai,Nagpur'"
      ]
     },
     "execution_count": 148,
     "metadata": {},
     "output_type": "execute_result"
    }
   ],
   "source": [
    "\"*\".join(cities[0:2])+\",\"+cities[-1]"
   ]
  },
  {
   "cell_type": "code",
   "execution_count": 164,
   "id": "762c3ca2-057a-489b-a383-d245fbafc17e",
   "metadata": {},
   "outputs": [],
   "source": [
    "l1 = [1, 2, 3, 4]"
   ]
  },
  {
   "cell_type": "code",
   "execution_count": null,
   "id": "be4fcfc9-8bdf-4ef9-8aa1-bfa1d8d429b0",
   "metadata": {},
   "outputs": [],
   "source": []
  },
  {
   "cell_type": "code",
   "execution_count": 170,
   "id": "dbeb4d81-3219-40a7-bcbc-6d6281f02372",
   "metadata": {},
   "outputs": [],
   "source": [
    "#2. Given a list of numbers [1, 2, 3, 4], create a string that contains these numbers separated by commas. \n",
    "#   OUTPUT = \"1,2,3,4\"\n",
    "\n",
    "l2 = []\n",
    "for i in l1:\n",
    "    l2.append(str(i))"
   ]
  },
  {
   "cell_type": "code",
   "execution_count": 172,
   "id": "f9571559-c010-4a95-8554-397b48fb3b28",
   "metadata": {},
   "outputs": [
    {
     "data": {
      "text/plain": [
       "['1', '2', '3', '4']"
      ]
     },
     "execution_count": 172,
     "metadata": {},
     "output_type": "execute_result"
    }
   ],
   "source": [
    "l2"
   ]
  },
  {
   "cell_type": "code",
   "execution_count": 174,
   "id": "03f89151-cd66-4562-a119-85f71879f346",
   "metadata": {},
   "outputs": [
    {
     "data": {
      "text/plain": [
       "'1,2,3,4'"
      ]
     },
     "execution_count": 174,
     "metadata": {},
     "output_type": "execute_result"
    }
   ],
   "source": [
    "\",\".join(l2)"
   ]
  },
  {
   "cell_type": "code",
   "execution_count": null,
   "id": "f2742439-4206-4434-b413-6e679bb22fd4",
   "metadata": {},
   "outputs": [],
   "source": []
  },
  {
   "cell_type": "code",
   "execution_count": null,
   "id": "d26cda02-b3a9-4f14-beb8-79109aecdd70",
   "metadata": {},
   "outputs": [],
   "source": []
  },
  {
   "cell_type": "code",
   "execution_count": null,
   "id": "093214bd-6b92-4dc3-a9be-568ec2e8c24d",
   "metadata": {},
   "outputs": [],
   "source": []
  },
  {
   "cell_type": "code",
   "execution_count": null,
   "id": "fe487f30-e6be-44b1-8ba1-5e74f841a213",
   "metadata": {},
   "outputs": [],
   "source": [
    "# Questions\n",
    "1. Given a list of words ['Hello', 'World'], join them into a single string separated by a space.\n",
    "2. Given a list of numbers [1, 2, 3, 4], create a string that contains these numbers separated by commas. \n",
    "   OUTPUT = \"1,2,3,4\"\n",
    "3. Given a list ['apple', 'banana', 'cherry'], join the list into a single string with a semicolon (;) \n",
    "   OUTPUT = \"apple;banana;cherry\"\n",
    "4. Given a list ['c', 'o', 'd', 'e'], join the characters to form the word \"code\".\n",
    "5. Join a list of strings into a multi-line string (each string on a new line).\n",
    "   INPUT = [\"Python is an easy Programming Language\", \"SQL is easy\", \"For loop is hard\", \"Thanks Bye Bye\"]\n",
    "6. Given a string with extra spaces, e.g., \" Hello World \", split it into words, remove extra spaces, \n",
    "   and join them back with a single space. (use split() & join())\n",
    "7. Join the list ['good', 'morning', 'everyone'] using a hyphen (-) as the separator.\n",
    "8. Given a list of words, join them into a single sentence with appropriate spacing.\n",
    "    Example: [\"This\", \"is\", \"a\", \"sentence\"] → \"This is a sentence\"\n",
    "9. Given a list of URL components, join them using slashes (/) to form a valid URL.\n",
    "    Example: [\"https:\", \"\", \"www.example.com\", \"about\"] → \"https://www.example.com/about\"\n",
    "10. Given a list of strings, remove vowels from each string and then join them with a comma.\n",
    "    Example: [\"apple\", \"orange\", \"banana\"] → \"ppl,rng,bnn\"\n",
    "11. Given a list of strings, join only the strings that are longer than 3 characters, \n",
    "    using a space as a separator.  Example: [\"a\", \"ab\", \"abcd\", \"abc\"] → \"abcd abc\"\n",
    "12. Given a string, print the reverse of the string.\n",
    "    Example \"The sky is blue\" ---> \"blue is sky The\""
   ]
  },
  {
   "cell_type": "code",
   "execution_count": null,
   "id": "35a645ea-d0ac-4899-90dd-0deda0834499",
   "metadata": {},
   "outputs": [],
   "source": []
  },
  {
   "cell_type": "code",
   "execution_count": null,
   "id": "cf645330-e572-4ab0-b548-ee5ef9eef2b9",
   "metadata": {},
   "outputs": [],
   "source": [
    "#1. How do you split a string by spaces using the split() method?\n"
   ]
  },
  {
   "cell_type": "code",
   "execution_count": 9,
   "id": "c19411a8-e578-4bc6-9f90-46b052902729",
   "metadata": {},
   "outputs": [],
   "source": [
    "\"\"\"Given a string representing CSV data, split it by commas.\"\"\"\n",
    "t1= \"apple,banana,orange\"\n",
    "#   Output: ['apple','banana', 'orange']"
   ]
  },
  {
   "cell_type": "code",
   "execution_count": 11,
   "id": "e97ec11b-0944-4d8b-b4e0-89948280426d",
   "metadata": {},
   "outputs": [
    {
     "data": {
      "text/plain": [
       "['apple', 'banana', 'orange']"
      ]
     },
     "execution_count": 11,
     "metadata": {},
     "output_type": "execute_result"
    }
   ],
   "source": [
    "t1.split(\",\")"
   ]
  },
  {
   "cell_type": "code",
   "execution_count": null,
   "id": "49dcd93b-867d-4f11-aecf-76ef89966373",
   "metadata": {},
   "outputs": [],
   "source": []
  },
  {
   "cell_type": "code",
   "execution_count": 25,
   "id": "2743073b-5056-4317-88ac-1a5f268ff72d",
   "metadata": {},
   "outputs": [],
   "source": [
    "t1= \"apple,,banana,,orange\"\n",
    "#   Output: ['apple', '', 'banana', '', 'orange']"
   ]
  },
  {
   "cell_type": "code",
   "execution_count": 27,
   "id": "eed1b4ce-faef-4ae4-8e74-0693e0b1b425",
   "metadata": {},
   "outputs": [
    {
     "data": {
      "text/plain": [
       "['apple', '', 'banana', '', 'orange']"
      ]
     },
     "execution_count": 27,
     "metadata": {},
     "output_type": "execute_result"
    }
   ],
   "source": [
    "t1.split(\",\")"
   ]
  },
  {
   "cell_type": "code",
   "execution_count": null,
   "id": "7041f6c7-ba8f-40dc-9414-6fe2910a0734",
   "metadata": {},
   "outputs": [],
   "source": []
  },
  {
   "cell_type": "code",
   "execution_count": null,
   "id": "9fe54028-596c-4323-aafc-79ffbbb79966",
   "metadata": {},
   "outputs": [],
   "source": [
    "\"apple\",\" \",\"banana\",\" \",\"orange\""
   ]
  },
  {
   "cell_type": "code",
   "execution_count": null,
   "id": "ec0511d9-e4fd-4fc0-a2c8-01b1e70f745d",
   "metadata": {},
   "outputs": [],
   "source": []
  },
  {
   "cell_type": "code",
   "execution_count": 33,
   "id": "51568e30-b234-45ea-bbb3-8d9941d13aea",
   "metadata": {},
   "outputs": [],
   "source": [
    "t1= \"v1..2.3.4\"\n",
    "#   Output: ['v1', '2', '3', '4']"
   ]
  },
  {
   "cell_type": "code",
   "execution_count": 35,
   "id": "27965056-18e4-4c77-9bfc-46a596298aa2",
   "metadata": {},
   "outputs": [
    {
     "data": {
      "text/plain": [
       "['v1', '', '2', '3', '4']"
      ]
     },
     "execution_count": 35,
     "metadata": {},
     "output_type": "execute_result"
    }
   ],
   "source": [
    "t1.split(\".\")"
   ]
  },
  {
   "cell_type": "code",
   "execution_count": null,
   "id": "7e6fadcd-22ce-4000-b4d2-0c5a4dbcc95c",
   "metadata": {},
   "outputs": [],
   "source": []
  },
  {
   "cell_type": "code",
   "execution_count": 37,
   "id": "b323fe2c-cbee-4e3e-a5db-52be6f74782b",
   "metadata": {},
   "outputs": [],
   "source": [
    "s1= \"2024-12-11\"\n",
    "#   Output: ['2024', '12', '11']"
   ]
  },
  {
   "cell_type": "code",
   "execution_count": 39,
   "id": "32ae4875-eb64-48de-a45f-d25c32bbed14",
   "metadata": {},
   "outputs": [
    {
     "data": {
      "text/plain": [
       "['2024', '12', '11']"
      ]
     },
     "execution_count": 39,
     "metadata": {},
     "output_type": "execute_result"
    }
   ],
   "source": [
    "s1.split(\"-\")"
   ]
  },
  {
   "cell_type": "code",
   "execution_count": null,
   "id": "e4be3072-5540-4070-9b52-52a88c01c011",
   "metadata": {},
   "outputs": [],
   "source": []
  },
  {
   "cell_type": "code",
   "execution_count": 41,
   "id": "37720e65-20e8-4cfb-8bf0-c12bd64bbe63",
   "metadata": {},
   "outputs": [],
   "source": [
    "#Split the string \"apple,banana,orange,grapes\" at the first two commas only.\n",
    "f1 =\"apple,banana,orange,grapes\"\n",
    "#   Output: ['apple', 'banana', 'orange,grapes']"
   ]
  },
  {
   "cell_type": "code",
   "execution_count": 47,
   "id": "23041911-2382-4fde-a8ce-2913f994065b",
   "metadata": {},
   "outputs": [
    {
     "data": {
      "text/plain": [
       "['apple', 'banana,orange,grapes']"
      ]
     },
     "execution_count": 47,
     "metadata": {},
     "output_type": "execute_result"
    }
   ],
   "source": [
    "f1.split(\",\",1)"
   ]
  },
  {
   "cell_type": "code",
   "execution_count": null,
   "id": "05179c24-0f96-4345-99e4-acbde1b461fc",
   "metadata": {},
   "outputs": [],
   "source": []
  },
  {
   "cell_type": "code",
   "execution_count": 49,
   "id": "9c9a9b2e-b65e-4607-9cdc-b24554b400e2",
   "metadata": {},
   "outputs": [],
   "source": [
    "#1. Count the Number of Lines in a Text (using splitlines())\n",
    "text = \"\"\"Line 1\n",
    "Line 2\n",
    "Line 3\"\"\""
   ]
  },
  {
   "cell_type": "code",
   "execution_count": 53,
   "id": "01869a3e-121e-47ad-a079-6833fff81480",
   "metadata": {},
   "outputs": [],
   "source": [
    "t1= text.splitlines()"
   ]
  },
  {
   "cell_type": "code",
   "execution_count": 57,
   "id": "652a82b0-e2aa-43ed-b77f-d6c71c902d42",
   "metadata": {},
   "outputs": [
    {
     "name": "stdout",
     "output_type": "stream",
     "text": [
      "3\n"
     ]
    }
   ],
   "source": [
    "cnt=0\n",
    "for i in text.splitlines():\n",
    "    cnt+=1\n",
    "print(cnt)"
   ]
  },
  {
   "cell_type": "code",
   "execution_count": null,
   "id": "068f1265-30ab-42e2-93a3-1595d1b3241a",
   "metadata": {},
   "outputs": [],
   "source": []
  },
  {
   "cell_type": "code",
   "execution_count": 59,
   "id": "37cc54f2-157f-4cd7-90ac-9f3afb7fe7be",
   "metadata": {},
   "outputs": [],
   "source": [
    "a = 1"
   ]
  },
  {
   "cell_type": "code",
   "execution_count": 61,
   "id": "85003bdc-8cc0-4414-9ca2-01712137bdc0",
   "metadata": {},
   "outputs": [],
   "source": [
    "a = a+1 #a+=1"
   ]
  },
  {
   "cell_type": "code",
   "execution_count": 63,
   "id": "4cef729e-2688-4b93-8e3e-03e28614be3e",
   "metadata": {},
   "outputs": [
    {
     "data": {
      "text/plain": [
       "2"
      ]
     },
     "execution_count": 63,
     "metadata": {},
     "output_type": "execute_result"
    }
   ],
   "source": [
    "a"
   ]
  },
  {
   "cell_type": "code",
   "execution_count": null,
   "id": "7768e1ac-8ae0-4844-88dd-ab515922e041",
   "metadata": {},
   "outputs": [],
   "source": [
    "a+=1"
   ]
  },
  {
   "cell_type": "code",
   "execution_count": null,
   "id": "e476b87b-c8f9-49ca-b7e9-bf83ac6076bc",
   "metadata": {},
   "outputs": [],
   "source": []
  },
  {
   "cell_type": "code",
   "execution_count": 71,
   "id": "1c18607f-fc00-4b0d-8efd-bd7314a6423d",
   "metadata": {},
   "outputs": [],
   "source": [
    "#2. Remove Empty Lines from a Multi-Line String (using splitlines())\n",
    "text = \"\"\"Line 1\n",
    "\n",
    "Line 2\n",
    "\n",
    "Line 3\"\"\"\n"
   ]
  },
  {
   "cell_type": "code",
   "execution_count": 83,
   "id": "7332a100-8a6a-44a0-bd72-2fbc13d4c683",
   "metadata": {},
   "outputs": [],
   "source": [
    "lst1 = text.splitlines()"
   ]
  },
  {
   "cell_type": "code",
   "execution_count": 85,
   "id": "921692ef-365f-4731-b95d-97bf5a23e014",
   "metadata": {},
   "outputs": [
    {
     "data": {
      "text/plain": [
       "['Line 1', '', 'Line 2', '', 'Line 3']"
      ]
     },
     "execution_count": 85,
     "metadata": {},
     "output_type": "execute_result"
    }
   ],
   "source": [
    "lst1"
   ]
  },
  {
   "cell_type": "code",
   "execution_count": 107,
   "id": "a4517fd4-1aee-48f1-ad1b-cb98d1b3e645",
   "metadata": {},
   "outputs": [
    {
     "name": "stdout",
     "output_type": "stream",
     "text": [
      "['Line 1', 'Line 2', 'Line 3']\n"
     ]
    }
   ],
   "source": [
    "lst2 = []\n",
    "lst4 = []\n",
    "for i in lst1: #['Line 1', '', 'Line 2', '', 'Line 3']\n",
    "    if i==\"\":\n",
    "        pass #continue  lst4.append(i)\n",
    "    else:\n",
    "        lst2.append(i)\n",
    "print(lst2)"
   ]
  },
  {
   "cell_type": "code",
   "execution_count": 109,
   "id": "e18f6ba9-307c-4fb7-9b45-b2b68b215758",
   "metadata": {},
   "outputs": [],
   "source": [
    "lst3 = []\n",
    "for i in lst1: #['Line 1', '', 'Line 2', '', 'Line 3']\n",
    "    if i!=\"\":\n",
    "        lst3.append(i)"
   ]
  },
  {
   "cell_type": "code",
   "execution_count": 111,
   "id": "5e144f63-c4e9-47e4-a0b4-47f6637cc03c",
   "metadata": {},
   "outputs": [
    {
     "data": {
      "text/plain": [
       "['Line 1', 'Line 2', 'Line 3']"
      ]
     },
     "execution_count": 111,
     "metadata": {},
     "output_type": "execute_result"
    }
   ],
   "source": [
    "lst3"
   ]
  },
  {
   "cell_type": "code",
   "execution_count": null,
   "id": "36a135b2-bb9a-457e-afee-dfb1b55b6106",
   "metadata": {},
   "outputs": [],
   "source": []
  },
  {
   "cell_type": "code",
   "execution_count": 176,
   "id": "01ff535f-f659-4e86-b294-d89388e20603",
   "metadata": {},
   "outputs": [],
   "source": [
    "\"\"\"3. Given a list ['apple', 'banana', 'cherry'], join the list into a \n",
    "single string with a semicolon (;)  OUTPUT = \"apple;banana;cherry\"\"\"\n",
    "t1 = ['apple', 'banana', 'cherry']"
   ]
  },
  {
   "cell_type": "code",
   "execution_count": 178,
   "id": "ce140752-11aa-4d40-bd83-e98e0f767a3b",
   "metadata": {},
   "outputs": [
    {
     "data": {
      "text/plain": [
       "'apple;banana;cherry'"
      ]
     },
     "execution_count": 178,
     "metadata": {},
     "output_type": "execute_result"
    }
   ],
   "source": [
    "\";\".join(t1)"
   ]
  },
  {
   "cell_type": "code",
   "execution_count": null,
   "id": "937af066-b7bb-4a3c-939d-dc79d1b26bbb",
   "metadata": {},
   "outputs": [],
   "source": []
  },
  {
   "cell_type": "code",
   "execution_count": null,
   "id": "381039c1-b566-4537-a032-39bf085d8a0d",
   "metadata": {},
   "outputs": [],
   "source": [
    "1. Arithmetic Operator  --> +,-,*,/,%,**,//\n",
    "   2. Logical Operator  --> and or not \n",
    "   3. Comparison Operator --> ==,>=,<=,>,<,!=\n",
    "   4. Assignment Operator --> =,+=,-=,*=,/=,//=,**=,%=\n",
    "   5. Membership Operator --> in, not in\n",
    "   6. Identity Operator --> is, not is\n",
    "   7. Bitwise Operator  --> & | ~\n",
    "   8. Ternary Operator  --> value_if_true if condition else value_if_false"
   ]
  },
  {
   "cell_type": "code",
   "execution_count": 180,
   "id": "00a6eede-b0f9-4e10-990c-e2e6837ceaa6",
   "metadata": {},
   "outputs": [],
   "source": [
    "a=2"
   ]
  },
  {
   "cell_type": "code",
   "execution_count": 182,
   "id": "520ebf68-cab4-46ba-942f-8edbd0d2067e",
   "metadata": {},
   "outputs": [
    {
     "data": {
      "text/plain": [
       "2"
      ]
     },
     "execution_count": 182,
     "metadata": {},
     "output_type": "execute_result"
    }
   ],
   "source": [
    "a"
   ]
  },
  {
   "cell_type": "code",
   "execution_count": null,
   "id": "f99e121e-482b-4cf9-85e2-1a81e67aedd4",
   "metadata": {},
   "outputs": [],
   "source": [
    "l1=[]\n",
    "for i in l3:\n",
    "    if i not in l1:"
   ]
  },
  {
   "cell_type": "code",
   "execution_count": 184,
   "id": "f1b4a7bd-f1fa-462b-8b67-cf6af864d6fb",
   "metadata": {},
   "outputs": [],
   "source": [
    "a=50"
   ]
  },
  {
   "cell_type": "code",
   "execution_count": 186,
   "id": "45c131b4-936b-4464-b1f3-68ee697e4af1",
   "metadata": {},
   "outputs": [],
   "source": [
    "b=50"
   ]
  },
  {
   "cell_type": "code",
   "execution_count": 188,
   "id": "bbb788e6-1c68-4d9d-b1c3-9b6c4ea1a5fd",
   "metadata": {},
   "outputs": [
    {
     "data": {
      "text/plain": [
       "True"
      ]
     },
     "execution_count": 188,
     "metadata": {},
     "output_type": "execute_result"
    }
   ],
   "source": [
    "a is b"
   ]
  },
  {
   "cell_type": "code",
   "execution_count": 190,
   "id": "e5c7ebae-7aed-4cdf-bbec-23904773734c",
   "metadata": {},
   "outputs": [
    {
     "data": {
      "text/plain": [
       "140717979807704"
      ]
     },
     "execution_count": 190,
     "metadata": {},
     "output_type": "execute_result"
    }
   ],
   "source": [
    "id(a)"
   ]
  },
  {
   "cell_type": "code",
   "execution_count": 192,
   "id": "ae2e2ca7-87ef-4be2-95e0-7a727e2331f0",
   "metadata": {},
   "outputs": [
    {
     "data": {
      "text/plain": [
       "140717979807704"
      ]
     },
     "execution_count": 192,
     "metadata": {},
     "output_type": "execute_result"
    }
   ],
   "source": [
    "id(b)"
   ]
  },
  {
   "cell_type": "code",
   "execution_count": null,
   "id": "02a9cb13-7208-4aef-8958-51dcb5872b8a",
   "metadata": {},
   "outputs": [],
   "source": [
    "20\n",
    "128,64,32,16,8,4,2,1"
   ]
  },
  {
   "cell_type": "code",
   "execution_count": null,
   "id": "fcbd2b03-8345-4a4e-8f04-757c023a7c76",
   "metadata": {},
   "outputs": [],
   "source": []
  },
  {
   "cell_type": "code",
   "execution_count": 194,
   "id": "eaf1a6b8-cd74-408f-8e7f-7ee9f50917bb",
   "metadata": {},
   "outputs": [],
   "source": [
    "c = 50000"
   ]
  },
  {
   "cell_type": "code",
   "execution_count": 196,
   "id": "cf478103-4598-4323-90c0-d372e91e96af",
   "metadata": {},
   "outputs": [],
   "source": [
    "d = 50000"
   ]
  },
  {
   "cell_type": "code",
   "execution_count": 200,
   "id": "9acf4689-a067-4953-a904-78bfdae917f2",
   "metadata": {},
   "outputs": [
    {
     "data": {
      "text/plain": [
       "False"
      ]
     },
     "execution_count": 200,
     "metadata": {},
     "output_type": "execute_result"
    }
   ],
   "source": [
    "c is d"
   ]
  },
  {
   "cell_type": "code",
   "execution_count": null,
   "id": "a5cd68de-67f8-4bd0-85cf-5759e7983109",
   "metadata": {},
   "outputs": [],
   "source": []
  },
  {
   "cell_type": "code",
   "execution_count": 214,
   "id": "da1e90bd-f0d7-44c7-8134-193c7f94b0bb",
   "metadata": {},
   "outputs": [],
   "source": [
    "a = [1,2,3,4]"
   ]
  },
  {
   "cell_type": "code",
   "execution_count": 210,
   "id": "7eff630d-e555-4ee3-991b-188fd9f0a03c",
   "metadata": {},
   "outputs": [],
   "source": [
    "b = [1,2,3,4]"
   ]
  },
  {
   "cell_type": "code",
   "execution_count": 216,
   "id": "3658948a-76dc-49ee-9397-a2b9b1de0444",
   "metadata": {},
   "outputs": [
    {
     "data": {
      "text/plain": [
       "True"
      ]
     },
     "execution_count": 216,
     "metadata": {},
     "output_type": "execute_result"
    }
   ],
   "source": [
    "a == b"
   ]
  },
  {
   "cell_type": "code",
   "execution_count": null,
   "id": "b0592913-f11e-410e-8c4b-9be773b85938",
   "metadata": {},
   "outputs": [],
   "source": []
  },
  {
   "cell_type": "code",
   "execution_count": null,
   "id": "a0b5e647-5985-4d12-b674-0ea2c91a34bb",
   "metadata": {},
   "outputs": [],
   "source": [
    "is  ----> memory location\n",
    "==  ----> value"
   ]
  },
  {
   "cell_type": "code",
   "execution_count": null,
   "id": "78d8161b-2387-4abb-aa08-8e0d5eb69a9c",
   "metadata": {},
   "outputs": [],
   "source": []
  },
  {
   "cell_type": "code",
   "execution_count": null,
   "id": "b53f737f-3f6d-409f-8f10-37a4859ccf1b",
   "metadata": {},
   "outputs": [],
   "source": []
  },
  {
   "cell_type": "code",
   "execution_count": null,
   "id": "b34fc327-b49b-48d5-8c81-d276bc3e9ee4",
   "metadata": {},
   "outputs": [],
   "source": []
  },
  {
   "cell_type": "code",
   "execution_count": null,
   "id": "9ca28ec9-9e85-40be-aa85-774d0aa36df7",
   "metadata": {},
   "outputs": [],
   "source": []
  },
  {
   "cell_type": "code",
   "execution_count": null,
   "id": "073b1d39-f850-4e47-9110-86dbe06875c7",
   "metadata": {},
   "outputs": [],
   "source": []
  },
  {
   "cell_type": "code",
   "execution_count": null,
   "id": "733b442c-14e3-4e2c-ae43-9dba5572b4e4",
   "metadata": {},
   "outputs": [],
   "source": []
  },
  {
   "cell_type": "code",
   "execution_count": null,
   "id": "8b3f1ebd-a416-4c89-9813-9d44ef9a2688",
   "metadata": {},
   "outputs": [],
   "source": []
  },
  {
   "cell_type": "code",
   "execution_count": null,
   "id": "eabe4f73-a8d6-47d6-bf4f-dc9328509013",
   "metadata": {},
   "outputs": [],
   "source": []
  },
  {
   "cell_type": "code",
   "execution_count": null,
   "id": "2cda5f69-3a00-4891-8e06-75e3049044c0",
   "metadata": {},
   "outputs": [],
   "source": []
  },
  {
   "cell_type": "code",
   "execution_count": null,
   "id": "fac2edd3-cb67-47a1-a542-a7f44824127d",
   "metadata": {},
   "outputs": [],
   "source": []
  },
  {
   "cell_type": "code",
   "execution_count": null,
   "id": "7a9d0083-10af-471d-baae-323e1683cda8",
   "metadata": {},
   "outputs": [],
   "source": []
  },
  {
   "cell_type": "code",
   "execution_count": null,
   "id": "2d3a5de9-e54c-4f15-8f9d-ffb4a5d5c4a0",
   "metadata": {},
   "outputs": [],
   "source": []
  },
  {
   "cell_type": "code",
   "execution_count": null,
   "id": "951801e9-77ac-4be7-a267-b1374e106d5f",
   "metadata": {},
   "outputs": [],
   "source": []
  }
 ],
 "metadata": {
  "kernelspec": {
   "display_name": "Python 3 (ipykernel)",
   "language": "python",
   "name": "python3"
  },
  "language_info": {
   "codemirror_mode": {
    "name": "ipython",
    "version": 3
   },
   "file_extension": ".py",
   "mimetype": "text/x-python",
   "name": "python",
   "nbconvert_exporter": "python",
   "pygments_lexer": "ipython3",
   "version": "3.12.7"
  }
 },
 "nbformat": 4,
 "nbformat_minor": 5
}
