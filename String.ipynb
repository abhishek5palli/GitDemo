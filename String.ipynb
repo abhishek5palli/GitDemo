{
 "cells": [
  {
   "cell_type": "markdown",
   "id": "7280ef62-c171-4d47-84e1-22b69fa933c4",
   "metadata": {},
   "source": [
    "# String"
   ]
  },
  {
   "cell_type": "code",
   "execution_count": null,
   "id": "6bced9b9-b625-4821-ad9c-8c9de95ed359",
   "metadata": {},
   "outputs": [],
   "source": [
    "- It is collection of chars arranged in some meaningful order\n",
    "- It is immutable type of DS\n",
    "- Element of str can be accessed by index number  ---> Ordered Type\n",
    "# NOTE : In python there is no CHAR datatype"
   ]
  },
  {
   "cell_type": "code",
   "execution_count": null,
   "id": "d4f247fe-a4d0-4086-a2c4-ae5bdb07b86d",
   "metadata": {},
   "outputs": [],
   "source": []
  },
  {
   "cell_type": "code",
   "execution_count": null,
   "id": "02dc492f-6fdd-41d7-b15f-aad330949657",
   "metadata": {},
   "outputs": [],
   "source": [
    "# How to define String\n",
    "1. ' '       ----> single quotes\n",
    "2. \" \"       ----> double quotes\n",
    "3. '''  '''  ----> triple single quotes\n",
    "4. \"\"\"  \"\"\"  ----> triple double quotes"
   ]
  },
  {
   "cell_type": "code",
   "execution_count": null,
   "id": "74d05b00-f170-4450-ba04-211a0b8333e3",
   "metadata": {},
   "outputs": [],
   "source": [
    "# 1. When to use Single Quotes : \n",
    "- If you dont have any quotes in your string then you can use single quotes (' ') to define string\n",
    "- For Example, a='AI Nexus', city='I love Mumbai', ex= 'String holds highest priority in Python'"
   ]
  },
  {
   "cell_type": "code",
   "execution_count": null,
   "id": "498772f1-456f-44d2-9a44-8c324de84806",
   "metadata": {},
   "outputs": [],
   "source": [
    "# 2. When to use Double Quotes :\n",
    "- If you have single quotes in data/string then you can use  double quotes(\" \") to define string\n",
    "- For Example, my_str = \"AWS is used for automation it's also used for Data Science\""
   ]
  },
  {
   "cell_type": "code",
   "execution_count": null,
   "id": "246c4154-0651-4881-aee5-4be32f5c3fa8",
   "metadata": {},
   "outputs": [],
   "source": [
    "NOTE : \n",
    "# when we have single quotes ('') in data then we can use double quotes (\" \")\n",
    "# when we have double quotes (\" \") in data then we can use single quotes (' ')\n",
    "# These single quotes ('') & double quotes (\"\") are mainly used for Single Lines \n",
    "# Triple single quotes (''' ''') & (\"\"\" \"\"\") are mainly used for multiline or paragraph"
   ]
  },
  {
   "cell_type": "code",
   "execution_count": null,
   "id": "8890c8b2-f1bc-4bab-9582-143820d558b2",
   "metadata": {},
   "outputs": [],
   "source": []
  },
  {
   "cell_type": "code",
   "execution_count": null,
   "id": "3f74bca3-6616-4e89-b05b-1923c22ffc19",
   "metadata": {},
   "outputs": [],
   "source": [
    "# Interview Question\n",
    "1. What is Docs String? \n",
    "- It is stands for Documented String.\n",
    "- It contains information about your code.\n",
    "- It will give you brief info about your code & its always on top of the script."
   ]
  },
  {
   "cell_type": "code",
   "execution_count": null,
   "id": "bfdca154-1031-447c-912e-18da511c491b",
   "metadata": {},
   "outputs": [],
   "source": []
  },
  {
   "cell_type": "code",
   "execution_count": null,
   "id": "1d937341-5a3b-4a01-a273-04cbf8ccccf7",
   "metadata": {},
   "outputs": [],
   "source": []
  },
  {
   "cell_type": "markdown",
   "id": "7a717368-f503-4729-8366-1423aa28976f",
   "metadata": {},
   "source": [
    "# Operations on String"
   ]
  },
  {
   "cell_type": "code",
   "execution_count": 1,
   "id": "79039665-a7b2-4609-97dd-a2a790dad818",
   "metadata": {},
   "outputs": [
    {
     "data": {
      "text/plain": [
       "'PYTHON'"
      ]
     },
     "execution_count": 1,
     "metadata": {},
     "output_type": "execute_result"
    }
   ],
   "source": [
    "# 1. Upper() : It is used to convert your string into UPPERCASE\n",
    "# SYNTAX  : variable_name.upper()\n",
    "a = 'python'\n",
    "a.upper()"
   ]
  },
  {
   "cell_type": "code",
   "execution_count": null,
   "id": "1c98c6c6-5c94-4fdd-be9e-253409271564",
   "metadata": {},
   "outputs": [],
   "source": [
    "# QUESTIONS\n",
    "1. WAPF to take list of strings (lowercase) convert complete list into uppercase\n",
    "2. my_str = [\"hello\",\"world\"] convert only \"world\" into uppercase\n",
    "3. Write a function that takes a string and counts how many uppercase letters are in the string using upper()\n",
    "4. Write a Python function that takes two strings as input and compares them in a case-insensitive manner (using upper() for comparison). \n",
    " Return True if they are the same and False otherwise.\n",
    "5. Write a Python function that ensures a user inputs a name in uppercase. \n",
    " If the user enters a name in any other case, the function should convert it to uppercase using upper().\n",
    "6. Write a Python function that takes a dictionary with string keys in mixed case and returns a \n",
    " new dictionary where all keys are converted to uppercase using upper()\n",
    "7. Write a Python function that checks if a given string is entirely in uppercase \n",
    " (i.e., all characters are uppercase) and returns True if it is, and False otherwise.\n",
    "8. Write a Python program that takes a multi-line string and converts all text in the string to uppercase using upper(). \n",
    "  Ignore any newline characters or formatting when converting."
   ]
  },
  {
   "cell_type": "code",
   "execution_count": null,
   "id": "6944f1d6-d68b-452b-8473-8f4a09571535",
   "metadata": {},
   "outputs": [],
   "source": []
  },
  {
   "cell_type": "code",
   "execution_count": 3,
   "id": "62d0042d-edf5-4b19-8ad6-216f4a23670e",
   "metadata": {},
   "outputs": [],
   "source": [
    "# 1. WAPF to take list of strings (lowercase) convert complete list into uppercase\n",
    "def convert_list(lst1):# ['python','datascience','pandas','django']\n",
    "    emt_list=[]\n",
    "    for string in lst1:\n",
    "        emt_list.append(string.upper())\n",
    "    return emt_list\n",
    "        "
   ]
  },
  {
   "cell_type": "code",
   "execution_count": 9,
   "id": "6bbacf32-2e9c-4534-a2eb-bb8b84d28f8c",
   "metadata": {},
   "outputs": [],
   "source": [
    "upper_list = convert_list(['PYTHON','datascience','pandas','django'])"
   ]
  },
  {
   "cell_type": "code",
   "execution_count": 11,
   "id": "1bc1bcc7-7bb6-47ea-9dac-f9009fe63a9f",
   "metadata": {},
   "outputs": [
    {
     "data": {
      "text/plain": [
       "['PYTHON', 'DATASCIENCE', 'PANDAS', 'DJANGO']"
      ]
     },
     "execution_count": 11,
     "metadata": {},
     "output_type": "execute_result"
    }
   ],
   "source": [
    "upper_list"
   ]
  },
  {
   "cell_type": "code",
   "execution_count": null,
   "id": "efbaabbd-f68c-4750-9efb-cffd32251dc0",
   "metadata": {},
   "outputs": [],
   "source": []
  },
  {
   "cell_type": "code",
   "execution_count": 83,
   "id": "bc068e5d-b531-49cf-aed0-7e6c768a1f29",
   "metadata": {},
   "outputs": [],
   "source": [
    "# 2. my_str = [\"hello\",\"world\"] convert only \"world\" into uppercase  ['hello','WORLD']\n",
    "# 1st method\n",
    "def my_str(lst2): # [\"hello\",\"world\"]\n",
    "    lst2[-1] = lst2[-1].upper()\n",
    "    return lst2"
   ]
  },
  {
   "cell_type": "code",
   "execution_count": 85,
   "id": "54d62b5d-3e14-4758-94da-e27fc65f595b",
   "metadata": {},
   "outputs": [
    {
     "data": {
      "text/plain": [
       "['hello', 'WORLD']"
      ]
     },
     "execution_count": 85,
     "metadata": {},
     "output_type": "execute_result"
    }
   ],
   "source": [
    "my_str([\"hello\",\"world\"])"
   ]
  },
  {
   "cell_type": "code",
   "execution_count": 59,
   "id": "c22b952e-d830-4820-b6ca-a893535e974b",
   "metadata": {},
   "outputs": [],
   "source": [
    "# 2nd method\n",
    "ls =  [\"hello\",\"world\"] "
   ]
  },
  {
   "cell_type": "code",
   "execution_count": 51,
   "id": "5e67242f-fcd0-4712-beb8-efe372d678a9",
   "metadata": {},
   "outputs": [],
   "source": [
    "ls[0],ls[1] =ls[0],ls[1].upper()"
   ]
  },
  {
   "cell_type": "code",
   "execution_count": 53,
   "id": "49356e56-ad06-4d59-9dea-fffd39fbb7be",
   "metadata": {},
   "outputs": [
    {
     "data": {
      "text/plain": [
       "['hello', 'WORLD']"
      ]
     },
     "execution_count": 53,
     "metadata": {},
     "output_type": "execute_result"
    }
   ],
   "source": [
    "ls"
   ]
  },
  {
   "cell_type": "code",
   "execution_count": null,
   "id": "a7697dc7-af0f-4ce9-9bb0-f472bc3637e6",
   "metadata": {},
   "outputs": [],
   "source": []
  },
  {
   "cell_type": "code",
   "execution_count": 61,
   "id": "263e6a19-af27-4423-9603-553251fa2d60",
   "metadata": {},
   "outputs": [],
   "source": [
    "l1 = ['hello', 'world']"
   ]
  },
  {
   "cell_type": "code",
   "execution_count": 77,
   "id": "967efabb-2d01-4b68-951e-f6640695e436",
   "metadata": {},
   "outputs": [
    {
     "data": {
      "text/plain": [
       "'world'"
      ]
     },
     "execution_count": 77,
     "metadata": {},
     "output_type": "execute_result"
    }
   ],
   "source": [
    "l1[-1]"
   ]
  },
  {
   "cell_type": "code",
   "execution_count": null,
   "id": "cc9662ef-38cc-429c-90b4-50c160a8db41",
   "metadata": {},
   "outputs": [],
   "source": []
  },
  {
   "cell_type": "code",
   "execution_count": 99,
   "id": "3d05e06b-54a8-4d7e-8b57-f3903be2245e",
   "metadata": {},
   "outputs": [],
   "source": [
    "# 3. Write a function that takes a string and counts how many uppercase letters are in the string using upper()\n",
    "str1 = \"DeCemBeR\"  \n",
    "def is_upper(str2):\n",
    "    cnt=0\n",
    "    for i in str2:\n",
    "        if i==i.upper():\n",
    "            cnt+=1\n",
    "    return cnt"
   ]
  },
  {
   "cell_type": "code",
   "execution_count": 101,
   "id": "83abdd40-24f0-44c6-8e43-cfd1ebf5d230",
   "metadata": {},
   "outputs": [],
   "source": [
    "count_str= is_upper(str1)"
   ]
  },
  {
   "cell_type": "code",
   "execution_count": 103,
   "id": "73bccc31-ae1a-4413-8348-0783d138b78b",
   "metadata": {},
   "outputs": [
    {
     "data": {
      "text/plain": [
       "4"
      ]
     },
     "execution_count": 103,
     "metadata": {},
     "output_type": "execute_result"
    }
   ],
   "source": [
    "count_str"
   ]
  },
  {
   "cell_type": "code",
   "execution_count": null,
   "id": "614c2195-b671-4477-817f-927256455026",
   "metadata": {},
   "outputs": [],
   "source": []
  },
  {
   "cell_type": "code",
   "execution_count": null,
   "id": "1d0d5930-de66-4672-9d7b-e92023a399c2",
   "metadata": {},
   "outputs": [],
   "source": [
    "# 4. Write a Python function that takes two strings as input and compares them in a case-insensitive manner (using upper() for comparison). \n",
    "# Return True if they are the same and False otherwise."
   ]
  },
  {
   "cell_type": "code",
   "execution_count": 151,
   "id": "73b1d9a9-12dd-4827-886c-2f26714fd042",
   "metadata": {},
   "outputs": [],
   "source": [
    "str1 = \"hELLO\"  #hello\n",
    "str2 = \"HELLO\"\n",
    "\n",
    "def compare_str(s1,s2):\n",
    "    return s1==s2.upper()"
   ]
  },
  {
   "cell_type": "code",
   "execution_count": 153,
   "id": "fdf660b3-f643-4ade-a6c5-6c157b0a4a06",
   "metadata": {},
   "outputs": [],
   "source": [
    "com_str = compare_str(str1,str2)"
   ]
  },
  {
   "cell_type": "code",
   "execution_count": 155,
   "id": "09875730-04f8-47e4-9884-172540ad4066",
   "metadata": {},
   "outputs": [
    {
     "data": {
      "text/plain": [
       "False"
      ]
     },
     "execution_count": 155,
     "metadata": {},
     "output_type": "execute_result"
    }
   ],
   "source": [
    "com_str"
   ]
  },
  {
   "cell_type": "code",
   "execution_count": null,
   "id": "699f2d01-ef37-496a-b536-a933a3c60676",
   "metadata": {},
   "outputs": [],
   "source": []
  },
  {
   "cell_type": "code",
   "execution_count": null,
   "id": "b688ad84-2830-4b2d-abd1-4cbd83604096",
   "metadata": {},
   "outputs": [],
   "source": [
    "# 5. Write a Python function that ensures a user inputs a name in uppercase. \n",
    "# If the user enters a name in any other case, the function should convert it to uppercase using upper()."
   ]
  },
  {
   "cell_type": "code",
   "execution_count": 157,
   "id": "50ad075c-30de-4c59-810c-8792efafab1a",
   "metadata": {},
   "outputs": [],
   "source": [
    "def name_upper(s1):\n",
    "    return s1.upper()"
   ]
  },
  {
   "cell_type": "code",
   "execution_count": 159,
   "id": "3ab74a14-2db9-4fe5-a6d5-bfbfd91ad483",
   "metadata": {},
   "outputs": [],
   "source": [
    "name = name_upper(\"mADhuRi\")"
   ]
  },
  {
   "cell_type": "code",
   "execution_count": 161,
   "id": "2ba2d5c9-c44b-4ace-943f-c5449517ee3c",
   "metadata": {},
   "outputs": [
    {
     "data": {
      "text/plain": [
       "'MADHURI'"
      ]
     },
     "execution_count": 161,
     "metadata": {},
     "output_type": "execute_result"
    }
   ],
   "source": [
    "name"
   ]
  },
  {
   "cell_type": "code",
   "execution_count": null,
   "id": "d07ae6fb-384b-40fc-869a-2756fe5b2d64",
   "metadata": {},
   "outputs": [],
   "source": []
  },
  {
   "cell_type": "code",
   "execution_count": 163,
   "id": "ad166e60-3c0e-4f26-84a1-dbfc0b58a66a",
   "metadata": {},
   "outputs": [],
   "source": [
    "names = ['pYtHoN','DJaNgO','jAvA','cLASS']"
   ]
  },
  {
   "cell_type": "code",
   "execution_count": 165,
   "id": "90a8716e-6c59-4c72-a968-3695cc756bd0",
   "metadata": {},
   "outputs": [],
   "source": [
    "def upper_name(a):\n",
    "    names_list = []\n",
    "    for i in a:\n",
    "        names_list.append(i.upper())\n",
    "    return names_list\n",
    "        "
   ]
  },
  {
   "cell_type": "code",
   "execution_count": 167,
   "id": "8e856d62-74c0-43ed-8fa8-cbe418376acc",
   "metadata": {},
   "outputs": [],
   "source": [
    "lst1 = upper_name(names)"
   ]
  },
  {
   "cell_type": "code",
   "execution_count": 169,
   "id": "cb6b8b10-7be0-429e-baed-b0bae3382826",
   "metadata": {},
   "outputs": [
    {
     "data": {
      "text/plain": [
       "['PYTHON', 'DJANGO', 'JAVA', 'CLASS']"
      ]
     },
     "execution_count": 169,
     "metadata": {},
     "output_type": "execute_result"
    }
   ],
   "source": [
    "lst1"
   ]
  },
  {
   "cell_type": "code",
   "execution_count": null,
   "id": "67a5cbcd-ab82-4455-b256-88e0479a669e",
   "metadata": {},
   "outputs": [],
   "source": []
  },
  {
   "cell_type": "code",
   "execution_count": null,
   "id": "9c869abf-14b2-4636-ad74-0b21e4896afb",
   "metadata": {},
   "outputs": [],
   "source": []
  },
  {
   "cell_type": "code",
   "execution_count": 171,
   "id": "71279e85-b0e4-470a-8e49-d616bc60fe25",
   "metadata": {},
   "outputs": [
    {
     "name": "stdin",
     "output_type": "stream",
     "text": [
      "Enter a name Madhuri ji\n"
     ]
    }
   ],
   "source": [
    "name = input(\"Enter a name\")"
   ]
  },
  {
   "cell_type": "code",
   "execution_count": null,
   "id": "9bcc5cab-b551-437f-8897-838d95c28d0a",
   "metadata": {},
   "outputs": [],
   "source": []
  },
  {
   "cell_type": "code",
   "execution_count": 173,
   "id": "e5eb33d2-ecee-496e-a99a-7159c8b1de5a",
   "metadata": {},
   "outputs": [
    {
     "name": "stdin",
     "output_type": "stream",
     "text": [
      "enter string here: maDhuRi Ji\n"
     ]
    },
    {
     "name": "stdout",
     "output_type": "stream",
     "text": [
      "4\n",
      "number of vowel count is:\n"
     ]
    }
   ],
   "source": [
    "def vow(string):\n",
    "    vowels = ('a','e','i','o','u')\n",
    "    count = 0\n",
    "    for vowel in string:\n",
    "        if vowel in vowels:\n",
    "            count += 1\n",
    "    print(count)\n",
    "    print('number of vowel count is:')\n",
    "\n",
    "def show():\n",
    "    return input(\"enter string here:\")\n",
    "obj= vow(show())"
   ]
  },
  {
   "cell_type": "code",
   "execution_count": null,
   "id": "0e277d65-0d61-4d5d-a0f9-9176a1d64532",
   "metadata": {},
   "outputs": [],
   "source": []
  },
  {
   "cell_type": "code",
   "execution_count": 203,
   "id": "d4e07966-320c-40fa-a942-18efa32365ad",
   "metadata": {},
   "outputs": [],
   "source": [
    "'''6. Write a Python function that takes a dictionary with string keys in mixed case and returns a \n",
    " new dictionary where all keys are converted to uppercase using upper()'''\n",
    "\n",
    "def upper_dict(d1):\n",
    "    d2 = {}\n",
    "    for key,value in d1.items():\n",
    "        d2[key.upper()]=value\n",
    "    return d2   "
   ]
  },
  {
   "cell_type": "code",
   "execution_count": 205,
   "id": "19a9d44e-0b17-4cfb-9c5f-329178ab0b44",
   "metadata": {},
   "outputs": [],
   "source": [
    "udict = upper_dict( {'nAmE':'Keshav', 'cItY':'mumbai','sal':250000})"
   ]
  },
  {
   "cell_type": "code",
   "execution_count": 207,
   "id": "410c9376-b2d0-44b8-8887-155879289710",
   "metadata": {},
   "outputs": [
    {
     "data": {
      "text/plain": [
       "{'NAME': 'Keshav', 'CITY': 'mumbai', 'SAL': 250000}"
      ]
     },
     "execution_count": 207,
     "metadata": {},
     "output_type": "execute_result"
    }
   ],
   "source": [
    "udict"
   ]
  },
  {
   "cell_type": "code",
   "execution_count": 219,
   "id": "a80aa187-4ccb-45bb-9c6f-e85d09ca4bbd",
   "metadata": {},
   "outputs": [
    {
     "data": {
      "text/plain": [
       "{'NAME': 'Keshav', 'CITY': 'mumbai', 'SAL': 250000}"
      ]
     },
     "execution_count": 219,
     "metadata": {},
     "output_type": "execute_result"
    }
   ],
   "source": [
    "{i.upper():j for i,j in dict1.items()}"
   ]
  },
  {
   "cell_type": "code",
   "execution_count": 209,
   "id": "6b34436c-8a10-45ee-a81b-c5c0d79090a7",
   "metadata": {},
   "outputs": [],
   "source": [
    "dict1 = {'nAmE':'Keshav', 'cItY':'mumbai','sal':250000}"
   ]
  },
  {
   "cell_type": "code",
   "execution_count": 177,
   "id": "7e8e3ca8-481b-43a2-af91-e15be1773fef",
   "metadata": {},
   "outputs": [
    {
     "data": {
      "text/plain": [
       "dict_keys(['nAmE', 'cItY', 'sal'])"
      ]
     },
     "execution_count": 177,
     "metadata": {},
     "output_type": "execute_result"
    }
   ],
   "source": [
    "dict1.keys()"
   ]
  },
  {
   "cell_type": "code",
   "execution_count": null,
   "id": "2c88581f-0024-4e9a-8085-c16296e2b44b",
   "metadata": {},
   "outputs": [],
   "source": []
  },
  {
   "cell_type": "code",
   "execution_count": 187,
   "id": "b3687e05-48dd-4b5b-9477-1bf2318b2768",
   "metadata": {},
   "outputs": [
    {
     "name": "stdout",
     "output_type": "stream",
     "text": [
      "False\n"
     ]
    }
   ],
   "source": [
    "print(dict1['nAmE'].upper()=='Keshav')"
   ]
  },
  {
   "cell_type": "code",
   "execution_count": null,
   "id": "6ff6db80-8bf1-4fe5-a1be-d6ec8d2787f4",
   "metadata": {},
   "outputs": [],
   "source": []
  },
  {
   "cell_type": "code",
   "execution_count": null,
   "id": "13017d4f-aec2-4f68-8910-9001326d713c",
   "metadata": {},
   "outputs": [],
   "source": []
  },
  {
   "cell_type": "code",
   "execution_count": 221,
   "id": "35e0d0e0-4c56-4556-99c1-72f2e59dbfba",
   "metadata": {},
   "outputs": [],
   "source": [
    "\"\"\"7. Write a Python function that checks if a given string is entirely in uppercase \n",
    " (i.e., all characters are uppercase) and returns True if it is, and False otherwise.\"\"\"\n",
    "\n",
    "def my_func(s1):\n",
    "    return s1==s1.upper()"
   ]
  },
  {
   "cell_type": "code",
   "execution_count": 223,
   "id": "60237c63-b6e4-429c-bc22-7a990fcf42b4",
   "metadata": {},
   "outputs": [],
   "source": [
    "my_str = my_func(\"hELlo\")"
   ]
  },
  {
   "cell_type": "code",
   "execution_count": 227,
   "id": "2d60958b-7142-40c5-b3c3-d9515a1b5c53",
   "metadata": {},
   "outputs": [],
   "source": [
    "my_str = my_func(\"TEST\")"
   ]
  },
  {
   "cell_type": "code",
   "execution_count": 229,
   "id": "c5a50a40-e7f7-48ca-a077-1d23638b033a",
   "metadata": {},
   "outputs": [
    {
     "data": {
      "text/plain": [
       "True"
      ]
     },
     "execution_count": 229,
     "metadata": {},
     "output_type": "execute_result"
    }
   ],
   "source": [
    "my_str"
   ]
  },
  {
   "cell_type": "code",
   "execution_count": 231,
   "id": "9b06a8be-892f-4cab-b5d2-b13bf628888d",
   "metadata": {},
   "outputs": [],
   "source": [
    "test = ['TeSt','PYTHON','djAngo','PANDAS']"
   ]
  },
  {
   "cell_type": "code",
   "execution_count": 243,
   "id": "2025325e-05cd-4372-a547-7269bcf5923c",
   "metadata": {},
   "outputs": [],
   "source": [
    "def my_funcs(t1):\n",
    "    return [i==i.upper() for i in t1]"
   ]
  },
  {
   "cell_type": "code",
   "execution_count": 245,
   "id": "6a3d1155-eca2-446c-b0b5-e98f405b965d",
   "metadata": {},
   "outputs": [],
   "source": [
    "t2 = my_funcs(test)"
   ]
  },
  {
   "cell_type": "code",
   "execution_count": 247,
   "id": "4d30c782-e10d-4f39-a1ad-fdceefb392e1",
   "metadata": {},
   "outputs": [
    {
     "data": {
      "text/plain": [
       "[False, True, False, True]"
      ]
     },
     "execution_count": 247,
     "metadata": {},
     "output_type": "execute_result"
    }
   ],
   "source": [
    "t2"
   ]
  },
  {
   "cell_type": "code",
   "execution_count": null,
   "id": "09ad1d69-29f9-43f8-8ad3-bc2b2731b007",
   "metadata": {},
   "outputs": [],
   "source": []
  },
  {
   "cell_type": "code",
   "execution_count": null,
   "id": "7fba165f-0d34-4b75-9e08-72a28bb3cc21",
   "metadata": {},
   "outputs": [],
   "source": []
  },
  {
   "cell_type": "code",
   "execution_count": 251,
   "id": "2bcb7233-b4a5-40bc-814a-db43847e2905",
   "metadata": {},
   "outputs": [],
   "source": [
    "def my_list(t5):\n",
    "    lst2 = []\n",
    "    for i in t5:\n",
    "        if i==i.upper():\n",
    "            lst2.append(True)\n",
    "        else:\n",
    "            lst2.append(False)\n",
    "    return lst2"
   ]
  },
  {
   "cell_type": "code",
   "execution_count": 253,
   "id": "41b06e70-ffb9-413d-b53c-cd31255ab069",
   "metadata": {},
   "outputs": [],
   "source": [
    "l1 = my_list(test)"
   ]
  },
  {
   "cell_type": "code",
   "execution_count": 255,
   "id": "f8352ef5-68df-4d04-8f4e-f7f45ee05dbb",
   "metadata": {},
   "outputs": [
    {
     "data": {
      "text/plain": [
       "[False, True, False, True]"
      ]
     },
     "execution_count": 255,
     "metadata": {},
     "output_type": "execute_result"
    }
   ],
   "source": [
    "l1"
   ]
  },
  {
   "cell_type": "code",
   "execution_count": null,
   "id": "263c9a9d-f74a-4401-8d8d-df7beab16dbd",
   "metadata": {},
   "outputs": [],
   "source": []
  },
  {
   "cell_type": "code",
   "execution_count": null,
   "id": "6963a74d-012d-401b-a75f-c42f40c2d84b",
   "metadata": {},
   "outputs": [],
   "source": [
    "\"\"\"8. Write a Python program that takes a multi-line string and converts all text in the string to uppercase using upper(). \n",
    "  Ignore any newline characters or formatting when converting.\"\"\"\n"
   ]
  },
  {
   "cell_type": "code",
   "execution_count": 257,
   "id": "103bc643-d3d5-448b-911f-c2ede6e965ad",
   "metadata": {},
   "outputs": [],
   "source": [
    "data = \"\"\"Python 3.13 introduces some change in behavior, i.e. new \"well-defined semantics\",\n",
    "fixing bugs (plus many removals of deprecated classes, functions and methods, and removed some of the \n",
    "C API and outdated modules): \"The [old] implementation of locals() and frame.f_locals is slow, inconsistent\n",
    "and buggy [and it has] has many corner cases and oddities. Code that works around those may need to be changed. Code that uses locals() \n",
    "for simple templating, or print debugging, will continue to work correctly.\"\"\""
   ]
  },
  {
   "cell_type": "code",
   "execution_count": 259,
   "id": "d5cb9255-38f4-4039-93f6-16e2c3243167",
   "metadata": {},
   "outputs": [],
   "source": [
    "def upper_para(para):\n",
    "    return para.upper()"
   ]
  },
  {
   "cell_type": "code",
   "execution_count": 261,
   "id": "53ed783a-628b-46a8-a93b-76952de0bfd1",
   "metadata": {},
   "outputs": [],
   "source": [
    "upara = upper_para(data)"
   ]
  },
  {
   "cell_type": "code",
   "execution_count": 265,
   "id": "5c886de5-76a2-4274-8dc0-c73940612645",
   "metadata": {},
   "outputs": [
    {
     "data": {
      "text/plain": [
       "'PYTHON 3.13 INTRODUCES SOME CHANGE IN BEHAVIOR, I.E. NEW \"WELL-DEFINED SEMANTICS\",\\nFIXING BUGS (PLUS MANY REMOVALS OF DEPRECATED CLASSES, FUNCTIONS AND METHODS, AND REMOVED SOME OF THE \\nC API AND OUTDATED MODULES): \"THE [OLD] IMPLEMENTATION OF LOCALS() AND FRAME.F_LOCALS IS SLOW, INCONSISTENT\\nAND BUGGY [AND IT HAS] HAS MANY CORNER CASES AND ODDITIES. CODE THAT WORKS AROUND THOSE MAY NEED TO BE CHANGED. CODE THAT USES LOCALS() \\nFOR SIMPLE TEMPLATING, OR PRINT DEBUGGING, WILL CONTINUE TO WORK CORRECTLY.'"
      ]
     },
     "execution_count": 265,
     "metadata": {},
     "output_type": "execute_result"
    }
   ],
   "source": [
    "upara"
   ]
  },
  {
   "cell_type": "code",
   "execution_count": null,
   "id": "76d31a2f-e3f5-4c09-9eaf-b315be602cda",
   "metadata": {},
   "outputs": [],
   "source": []
  },
  {
   "cell_type": "code",
   "execution_count": null,
   "id": "0ea2301d-e79e-4925-8e5c-6e25f64e820b",
   "metadata": {},
   "outputs": [],
   "source": []
  },
  {
   "cell_type": "code",
   "execution_count": null,
   "id": "72e7df1a-848d-462c-a536-5c0aa0359eb2",
   "metadata": {},
   "outputs": [],
   "source": []
  },
  {
   "cell_type": "code",
   "execution_count": null,
   "id": "e16049a2-3600-4110-8f0c-a58dff827633",
   "metadata": {},
   "outputs": [],
   "source": []
  },
  {
   "cell_type": "code",
   "execution_count": null,
   "id": "d5e8c737-65fe-461c-aeb3-bd999e6e9030",
   "metadata": {},
   "outputs": [],
   "source": []
  },
  {
   "cell_type": "code",
   "execution_count": null,
   "id": "baea5e67-a424-4102-aa28-89cf093e1274",
   "metadata": {},
   "outputs": [],
   "source": []
  },
  {
   "cell_type": "code",
   "execution_count": null,
   "id": "141aa835-2fe7-44c8-9b39-11e52f57b020",
   "metadata": {},
   "outputs": [],
   "source": []
  },
  {
   "cell_type": "code",
   "execution_count": null,
   "id": "8fc1c535-db7c-470f-b8d7-df26df82a540",
   "metadata": {},
   "outputs": [],
   "source": []
  },
  {
   "cell_type": "code",
   "execution_count": null,
   "id": "963118a5-3a6b-484a-889a-b31527095be1",
   "metadata": {},
   "outputs": [],
   "source": []
  },
  {
   "cell_type": "code",
   "execution_count": null,
   "id": "9a512852-442a-41bd-a641-7bc5f0c9eade",
   "metadata": {},
   "outputs": [],
   "source": []
  },
  {
   "cell_type": "code",
   "execution_count": null,
   "id": "081c6b4d-dec5-4e8c-9381-4d80cb47e223",
   "metadata": {},
   "outputs": [],
   "source": []
  },
  {
   "cell_type": "code",
   "execution_count": null,
   "id": "0758e7e9-1e96-4b2c-a880-21a04c04a7a0",
   "metadata": {},
   "outputs": [],
   "source": []
  },
  {
   "cell_type": "code",
   "execution_count": null,
   "id": "a4181bb5-a458-4fa9-81ff-f8b9f9daec50",
   "metadata": {},
   "outputs": [],
   "source": []
  },
  {
   "cell_type": "code",
   "execution_count": null,
   "id": "a4be5089-b6e8-4283-8c48-c41c61e0044a",
   "metadata": {},
   "outputs": [],
   "source": []
  },
  {
   "cell_type": "code",
   "execution_count": null,
   "id": "a99a4767-d8da-41bc-842b-2be3ea883b23",
   "metadata": {},
   "outputs": [],
   "source": []
  },
  {
   "cell_type": "code",
   "execution_count": null,
   "id": "524c86bf-910a-4d34-bef3-80889b86cfba",
   "metadata": {},
   "outputs": [],
   "source": []
  },
  {
   "cell_type": "code",
   "execution_count": null,
   "id": "e350e0e1-b233-483d-9223-2b496fa86fca",
   "metadata": {},
   "outputs": [],
   "source": []
  },
  {
   "cell_type": "code",
   "execution_count": null,
   "id": "28e491f1-e682-476b-9e9f-9848095bf3da",
   "metadata": {},
   "outputs": [],
   "source": []
  },
  {
   "cell_type": "code",
   "execution_count": null,
   "id": "9bba8d17-3477-4571-9bfb-b6b7f1c07321",
   "metadata": {},
   "outputs": [],
   "source": []
  },
  {
   "cell_type": "code",
   "execution_count": null,
   "id": "24344319-b227-4179-8da8-1004ec08d24d",
   "metadata": {},
   "outputs": [],
   "source": []
  },
  {
   "cell_type": "code",
   "execution_count": null,
   "id": "933c7771-ff33-4576-bb5e-83a966009b7d",
   "metadata": {},
   "outputs": [],
   "source": []
  },
  {
   "cell_type": "code",
   "execution_count": null,
   "id": "dd35c54e-55a9-418a-920e-b048dbca561c",
   "metadata": {},
   "outputs": [],
   "source": []
  },
  {
   "cell_type": "code",
   "execution_count": null,
   "id": "f6b8f098-6618-4798-b13c-8c7d59a79d8b",
   "metadata": {},
   "outputs": [],
   "source": []
  },
  {
   "cell_type": "code",
   "execution_count": null,
   "id": "b2ff1fcc-d942-4c32-9e1f-e6aa992ba974",
   "metadata": {},
   "outputs": [],
   "source": []
  },
  {
   "cell_type": "code",
   "execution_count": null,
   "id": "12a86d85-c0f5-4960-8b34-385514368f03",
   "metadata": {},
   "outputs": [],
   "source": []
  },
  {
   "cell_type": "code",
   "execution_count": null,
   "id": "ce65fd75-7997-4d9f-8870-76690afdfefc",
   "metadata": {},
   "outputs": [],
   "source": []
  },
  {
   "cell_type": "code",
   "execution_count": null,
   "id": "22b99ded-4d05-4dc5-88e7-30f5c9665139",
   "metadata": {},
   "outputs": [],
   "source": []
  },
  {
   "cell_type": "code",
   "execution_count": null,
   "id": "1d16a014-df11-4f6c-bf31-9ca9e7e53a9c",
   "metadata": {},
   "outputs": [],
   "source": []
  },
  {
   "cell_type": "code",
   "execution_count": null,
   "id": "a52f87ad-5736-4bef-9185-84ca49c304b2",
   "metadata": {},
   "outputs": [],
   "source": []
  },
  {
   "cell_type": "code",
   "execution_count": null,
   "id": "3fee23b4-3dc6-488e-9d73-f29e1ae1c96c",
   "metadata": {},
   "outputs": [],
   "source": []
  },
  {
   "cell_type": "code",
   "execution_count": null,
   "id": "303922f0-2312-4ebe-9179-f6ece38ae6d8",
   "metadata": {},
   "outputs": [],
   "source": []
  },
  {
   "cell_type": "code",
   "execution_count": null,
   "id": "83624678-ab22-4757-84b8-55c8edb592f2",
   "metadata": {},
   "outputs": [],
   "source": []
  },
  {
   "cell_type": "code",
   "execution_count": null,
   "id": "4610f7f7-c6b2-41f3-b707-8ed4fd2d1d95",
   "metadata": {},
   "outputs": [],
   "source": []
  },
  {
   "cell_type": "code",
   "execution_count": null,
   "id": "7930172e-b8c8-4dcf-8446-4477286b0604",
   "metadata": {},
   "outputs": [],
   "source": []
  },
  {
   "cell_type": "code",
   "execution_count": null,
   "id": "f3ac902f-dbbd-4d54-8230-305a1284a221",
   "metadata": {},
   "outputs": [],
   "source": []
  },
  {
   "cell_type": "code",
   "execution_count": null,
   "id": "8e2c643b-e25b-4460-8c7d-6662a0e95e3a",
   "metadata": {},
   "outputs": [],
   "source": []
  },
  {
   "cell_type": "code",
   "execution_count": null,
   "id": "6b1c3cac-f9a8-4ab9-bdd3-1722b45e8326",
   "metadata": {},
   "outputs": [],
   "source": []
  },
  {
   "cell_type": "code",
   "execution_count": null,
   "id": "04735b46-6601-419b-aad6-17a0ba94292e",
   "metadata": {},
   "outputs": [],
   "source": []
  },
  {
   "cell_type": "code",
   "execution_count": null,
   "id": "6d37fa2d-a65a-4493-b268-eafa5a1a7625",
   "metadata": {},
   "outputs": [],
   "source": []
  },
  {
   "cell_type": "code",
   "execution_count": null,
   "id": "96268b70-4b92-49d3-b20e-4f622c287b63",
   "metadata": {},
   "outputs": [],
   "source": []
  },
  {
   "cell_type": "code",
   "execution_count": null,
   "id": "c73497bb-0050-413d-8f79-e32247c19636",
   "metadata": {},
   "outputs": [],
   "source": [
    "\n"
   ]
  }
 ],
 "metadata": {
  "kernelspec": {
   "display_name": "Python 3 (ipykernel)",
   "language": "python",
   "name": "python3"
  },
  "language_info": {
   "codemirror_mode": {
    "name": "ipython",
    "version": 3
   },
   "file_extension": ".py",
   "mimetype": "text/x-python",
   "name": "python",
   "nbconvert_exporter": "python",
   "pygments_lexer": "ipython3",
   "version": "3.12.7"
  }
 },
 "nbformat": 4,
 "nbformat_minor": 5
}
